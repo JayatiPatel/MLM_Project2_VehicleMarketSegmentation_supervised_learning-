{
  "cells": [
    {
      "cell_type": "markdown",
      "metadata": {
        "id": "view-in-github",
        "colab_type": "text"
      },
      "source": [
        "<a href=\"https://colab.research.google.com/github/JayatiPatel/MLM_Project2_VehicleMarketSegmentation_supervised_learning-/blob/main/project_2_.ipynb\" target=\"_parent\"><img src=\"https://colab.research.google.com/assets/colab-badge.svg\" alt=\"Open In Colab\"/></a>"
      ]
    },
    {
      "cell_type": "markdown",
      "metadata": {
        "id": "DsexqR5-2p4e"
      },
      "source": [
        "\n",
        "#Project Title : Vehicle Market Segmentation Analysis\n",
        "\n"
      ]
    },
    {
      "cell_type": "markdown",
      "metadata": {
        "id": "X3dAaVJ53Snc"
      },
      "source": []
    },
    {
      "cell_type": "markdown",
      "source": [
        ">[Project Title : Vehicle Market Segmentation Analysis](#scrollTo=DsexqR5-2p4e)\n",
        "\n",
        ">>[Project Objectives and Problem Statements](#scrollTo=QlTbN9tz49QG)\n",
        "\n",
        ">>[Description of Data](#scrollTo=tcFpQ6bD5Onq)\n",
        "\n",
        ">>>[2.1. Data Source, Size, Shape](#scrollTo=tcFpQ6bD5Onq)\n",
        "\n",
        ">>>>[2.1.1 Date Source :](#scrollTo=tcFpQ6bD5Onq)\n",
        "\n",
        ">>>>[2.1.2. Data Size](#scrollTo=tcFpQ6bD5Onq)\n",
        "\n",
        ">>>>[2.1.3. Data Shape :](#scrollTo=tcFpQ6bD5Onq)\n",
        "\n",
        ">>>[2.2. Description of Variables](#scrollTo=TDejbUAZphxF)\n",
        "\n",
        ">>>>[2.2.1. Index Variable(s):](#scrollTo=TDejbUAZphxF)\n",
        "\n",
        ">>>>[2.2.2. Outcome Variable or Feature:](#scrollTo=TDejbUAZphxF)\n",
        "\n",
        ">>>>[2.2.3. Input Variables or Features](#scrollTo=TDejbUAZphxF)\n",
        "\n",
        ">>>>>[2.2.3.1. Input Variables or Features having Categories | Input Categorical Variables or Features (ICV)](#scrollTo=TDejbUAZphxF)\n",
        "\n",
        ">>>>>>[2.2.3.1.1. Input Variables or Features having Nominal Categories | Categorical Variables or Features - Nominal Type:](#scrollTo=TDejbUAZphxF)\n",
        "\n",
        ">>>>>>[2.2.3.1.2. Input Variables or Features having Ordinal Categories | Categorical Variables or Features - Ordinal Type:](#scrollTo=TDejbUAZphxF)\n",
        "\n",
        ">>>>>[2.2.3. Input Non-Categorical Variables or Features:](#scrollTo=TDejbUAZphxF)\n",
        "\n",
        ">>>>[Descriptive Statistics](#scrollTo=kbPig2DAMXvC)\n",
        "\n",
        ">>>>>[Descriptive Statistics: Categorical Variables or Features](#scrollTo=kbPig2DAMXvC)\n",
        "\n",
        ">>>>[Count | Frequency Statistics](#scrollTo=kbPig2DAMXvC)\n",
        "\n",
        ">>>[Descriptive Statistics: Non-Categorical Variables or Features](#scrollTo=kbPig2DAMXvC)\n",
        "\n",
        ">>>>[Measures of Central Tendency](#scrollTo=kbPig2DAMXvC)\n",
        "\n",
        ">>>>[Measures of Dispersion](#scrollTo=kbPig2DAMXvC)\n",
        "\n",
        ">>>>[Correlation Statistics (with Test of Correlation)](#scrollTo=kbPig2DAMXvC)\n",
        "\n",
        ">[Analysis of Data](#scrollTo=c4vTMB2hNtuT)\n",
        "\n",
        ">>[Data Pre-Processing](#scrollTo=c4vTMB2hNtuT)\n",
        "\n",
        ">>>[Missing Data Statistics: Records](#scrollTo=c4vTMB2hNtuT)\n",
        "\n",
        ">>>[Missing Data Treatment : categorical Variable](#scrollTo=c4vTMB2hNtuT)\n",
        "\n",
        ">>>[Missing Data Treatment : Non Categorical Variable](#scrollTo=c4vTMB2hNtuT)\n",
        "\n",
        ">>[Numerical Encoding of Categorical Variables or Features](#scrollTo=c4vTMB2hNtuT)\n",
        "\n",
        ">>>[Outlier Statistics and Treatment (Scaling | Transformation)](#scrollTo=c4vTMB2hNtuT)\n",
        "\n",
        ">>[Normalization](#scrollTo=c4vTMB2hNtuT)\n",
        "\n",
        ">>[Data Analysis](#scrollTo=-L-PmQpYTZkS)\n",
        "\n",
        ">>>[Decision Tree](#scrollTo=-L-PmQpYTZkS)\n",
        "\n",
        ">>>[KNN](#scrollTo=KtwlVnMadENB)\n",
        "\n",
        ">>>[Support Vector Machine](#scrollTo=UeS--ubhwHmn)\n",
        "\n",
        ">>>[Logistic Regression](#scrollTo=Qp2_5OVHfSMv)\n",
        "\n",
        ">>[4. Results | Observations](#scrollTo=Yd3ULFTjxsHJ)\n",
        "\n",
        ">>[Observation](#scrollTo=Yd3ULFTjxsHJ)\n",
        "\n"
      ],
      "metadata": {
        "colab_type": "toc",
        "id": "gEO6dXNfzdpV"
      }
    },
    {
      "cell_type": "markdown",
      "metadata": {
        "id": "QlTbN9tz49QG"
      },
      "source": [
        "##**Project Objectives and Problem Statements**\n",
        "\n",
        "**1. Classification of Consumer Data into Segments using Supervised Learning**\n",
        "\n",
        "**1.1. Objective:**  \n",
        "To segment consumer data effectively using supervised learning classification algorithms, thereby enhancing our understanding of consumer behavior and preferences.\n",
        "\n",
        "**1.1. Problem Statement (PS1):**  \n",
        "The challenge lies in categorizing consumer data into meaningful segments or clusters using advanced supervised learning techniques. This involves identifying patterns and relationships within the data to accurately classify consumers into distinct groups based on their characteristics and behaviors.\n",
        "\n",
        "**1.2. Objective:**  \n",
        "To determine the most suitable classification model for accurately classifying consumer data into segments.\n",
        "\n",
        "**1.2. Problem Statement (PS2):**  \n",
        "The task involves evaluating various supervised learning algorithms, including Decision Trees, KNN, Support Vector Machines (SVM), and Logistic Regression, to identify the model that performs optimally in segmenting consumer data. The selected model should exhibit high accuracy and robustness in handling the complexity of the dataset.\n",
        "\n",
        "**1.3. Objective:**  \n",
        "To identify the most significant variables or features and establish appropriate thresholds for classification.\n",
        "\n",
        "**1.3. Problem Statement (PS3):**  \n",
        "This objective entails identifying the key variables that contribute significantly to the classification process and determining their optimal thresholds. By understanding the importance of each feature and its threshold value, we can effectively classify consumers into appropriate segments, leading to more targeted marketing strategies and personalized services."
      ]
    },
    {
      "cell_type": "markdown",
      "metadata": {
        "id": "tcFpQ6bD5Onq"
      },
      "source": [
        "##2. Description of Data\n",
        "\n",
        "###2.1. Data Source, Size, Shape\n",
        "#### 2.1.1 Date Source :\n",
        " https://github.com/JayatiPatel/Vehical_Market_Segment_Cluster/tree/main\n",
        "\n",
        "####2.1.2. Data Size\n",
        "88MB\n",
        "\n",
        "\n",
        "####2.1.3. Data Shape :\n",
        " 323362 rows × 23 columns\n"
      ]
    },
    {
      "cell_type": "markdown",
      "metadata": {
        "id": "TDejbUAZphxF"
      },
      "source": [
        "###2.2. Description of Variables\n",
        "\n",
        "#### 2.2.1. Index Variable(s):\n",
        "- `Index_x_x`, `Index_y`, `Index_x_y`: These are index variables used to uniquely identify each row in the dataset.\n",
        "\n",
        "#### 2.2.2. Outcome Variable or Feature:\n",
        "- `Cluster_Label_x`: This is the outcome variable or feature used in classification. It seems to represent the cluster labels assigned to data points.\n",
        "\n",
        "#### 2.2.3. Input Variables or Features\n",
        "\n",
        "##### 2.2.3.1. Input Variables or Features having Categories | Input Categorical Variables or Features (ICV)\n",
        "\n",
        "###### 2.2.3.1.1. Input Variables or Features having Nominal Categories | Categorical Variables or Features - Nominal Type:\n",
        "- `year_code`, `make_code`, `model_code`, `trim_code`, `body_code`, `transmission_code`, `state_code`, `color_code`, `interior_code`, `seller_code`, `condition`: These variables seem to represent categorical features with nominal categories.\n",
        "\n",
        "###### 2.2.3.1.2. Input Variables or Features having Ordinal Categories | Categorical Variables or Features - Ordinal Type:\n",
        "- None provided in the code.\n",
        "\n",
        "##### 2.2.3. Input Non-Categorical Variables or Features:\n",
        "- `odometer`, `mmr`, `sellingprice`, `condition_mms`, `odometer_mms`, `mmr_mms`, `sellingprice_mms`: These variables appear to be non-categorical features.\n",
        "\n",
        "This description provides an overview of the variables and their types based on the code and output provided. If there are additional variables or features not captured in the code snippet, please provide them for a more comprehensive description.\n"
      ]
    },
    {
      "cell_type": "markdown",
      "metadata": {
        "id": "kbPig2DAMXvC"
      },
      "source": [
        "#### Descriptive Statistics\n",
        "\n",
        "##### Descriptive Statistics: Categorical Variables or Features\n",
        "\n",
        "#### Count | Frequency Statistics\n",
        "\n",
        "Variable Distribution:\n",
        "\n",
        "The dataset encompasses a broad range of categorical variables, including \"Year,\" \"Make,\" \"Model,\" \"Trim,\" \"Body,\" \"Transmission,\" \"State,\" \"Color,\" \"Interior,\" and \"Seller.\"\n",
        "Each categorical variable has multiple categories, as indicated by the numerous entries for each variable in the statistics.\n",
        "Year Distribution:\n",
        "\n",
        "The \"Year\" variable demonstrates the distribution of vehicles across different years.\n",
        "\n",
        "The most prevalent years appear to be 2012, 2013, and 2014, each contributing a substantial proportion of the dataset. These years collectively constitute a significant portion of the dataset, highlighting the prevalence of vehicles from this time period.\n",
        "\n",
        "**Make, Model, and Trim Distribution:**\n",
        "\n",
        "The \"Make,\" \"Model,\" and \"Trim\" variables showcase the diversity of vehicle manufacturers, models, and trims represented in the dataset.\n",
        "\n",
        "Each category within these variables contributes to the overall distribution, with some categories being more prevalent than others. This diversity underscores the variety of vehicles included in the dataset.\n",
        "Seller Distribution:\n",
        "\n",
        "The \"Seller\" variable reflects the various entities or individuals involved in selling vehicles.\n",
        "While some sellers appear frequently in the dataset, there are also numerous sellers with fewer entries. This indicates a wide array of sellers contributing to the dataset, ranging from large dealerships to individual sellers.\n",
        "\n",
        "**Frequency Analysis:**\n",
        "\n",
        "The frequency column provides insights into the relative occurrence of each category within a variable.\n",
        "Categories with higher frequencies represent a larger proportion of the dataset, indicating their prevalence.\n",
        "Conversely, categories with lower frequencies occur less frequently and may represent niche segments within the dataset.\n",
        "\n",
        ">Overall, these count and frequency statistics offer valuable insights into the distribution and prevalence of categorical variables within the dataset. Understanding these distributions is crucial for subsequent analysis, such as segmentation or predictive modeling, as it informs decisions regarding variable selection and model building strategies.\n",
        "\n",
        "\n",
        "\n",
        "2.3.1.2. Proportion (Relative Frequency) Statistics\n",
        "\n",
        "2.3.2. Descriptive Statistics: Non-Categorical Variables or Features\n",
        "\n",
        "2.3.2.1. Measures of Central Tendency\n",
        "\n",
        "2.3.2.2. Measures of Dispersion\n",
        "\n",
        "2.3.2.3. Correlation Statistics (with Test of Correlation)\n",
        "\n",
        "### Descriptive Statistics: Non-Categorical Variables or Features\n",
        "\n",
        "#### Measures of Central Tendency\n",
        "\n",
        "**Condition:**\n",
        "\n",
        "Mean: The average condition score of the vehicles in the dataset is approximately 30.67.\n",
        "\n",
        "Median: The median condition score is 35.0, indicating that half of the vehicles have a condition score lower than or equal to 35, and the other half have a score higher than 35.\n",
        "\n",
        "Mode: The most common condition score is 19.0, suggesting that this value occurs most frequently in the dataset.\n",
        "\n",
        "**Odometer:**\n",
        "\n",
        "Mean: The average odometer reading for the vehicles is around 68,320 miles.\n",
        "\n",
        "Median: The median odometer reading is 52,254 miles, indicating that half of the vehicles have an odometer reading lower than or equal to 52,254 miles, and the other half have a reading higher than 52,254 miles.\n",
        "\n",
        "Mode: The mode of the odometer readings is 1.0, which is likely a representation of low or missing values rather than an accurate measurement.\n",
        "\n",
        "**MMR (Manheim Market Report):**\n",
        "\n",
        "Mean: The average MMR value for the vehicles is approximately $13,769.38.\n",
        "\n",
        "Median: The median MMR value is $12250,\n",
        "indicating that half of the vehicles have an MMR value lower than or equal to $12,250.0, and the other half have a value higher than $12,250.0.\n",
        "\n",
        "Mode: The mode of the MMR values is $12,500.0, which suggests that this price occurs most frequently in the dataset.\n",
        "\n",
        "**Selling Price:**\n",
        "\n",
        "Mean: The average selling price of the vehicles is approximately $13,611.36.\n",
        "\n",
        "Median: The median selling price is $12,100.0, indicating that half of the vehicles were sold for a price lower than or equal to $12,100.0, and the other half were sold for a price higher than $12,100.0.\n",
        "\n",
        "Mode: The most common selling price is $11,000.0, suggesting that this price occurs most frequently in the dataset.\n",
        "\n",
        ">Overall, these measures provide insight into the typical values and distribution of the key variables in the dataset, which can be valuable for understanding the characteristics of the vehicles and making informed decisions in the automotive industry.\n",
        "\n",
        "####Measures of Dispersion\n",
        "\n",
        "**Condition:**\n",
        "\n",
        "Standard Deviation: The condition scores of the vehicles have a standard deviation of approximately 13.40. This indicates that the condition scores vary moderately around the mean.\n",
        "\n",
        "Range: The range of condition scores is from 0 to 48. This suggests that the condition scores span a wide range of values, indicating diversity in the condition of the vehicles.\n",
        "\n",
        "**Odometer:**\n",
        "\n",
        "Standard Deviation: The odometer readings have a relatively high standard deviation of approximately 53,398.54. This indicates a considerable amount of variability in the mileage of the vehicles.\n",
        "\n",
        "Range: The range of odometer readings is from 1 mile to 999,998 miles. This wide range suggests that the mileage of the vehicles in the dataset varies significantly.\n",
        "\n",
        "**MMR (Manheim Market Report):**\n",
        "\n",
        "Standard Deviation: The MMR values have a standard deviation of approximately 9,679.97. This indicates a notable degree of variability in the market prices of the vehicles.\n",
        "\n",
        "Range: The range of MMR values is from $0 to $181,975. This wide range suggests considerable diversity in the market prices of the vehicles.\n",
        "\n",
        "**Selling Price:**\n",
        "\n",
        "Standard Deviation: The selling prices of the vehicles have a standard deviation of approximately $9,749.50. This suggests a considerable amount of variability in the selling prices.\n",
        "\n",
        "Range: The range of selling prices is from $0 to $229,999. This wide range indicates significant variability in the selling prices of the vehicles.\n",
        "\n",
        ">These measures of dispersion provide valuable insights into the variability and spread of the key variables in the dataset, which can aid in understanding the distribution and characteristics of the vehicles and making informed decisions in the automotive industry.\n",
        "\n",
        "#### Correlation Statistics (with Test of Correlation)\n",
        "\n",
        "**Condition vs. Odometer:**\n",
        "\n",
        "There is a moderate negative correlation (-0.318) between the condition of the vehicle and its odometer reading.\n",
        "This suggests that as the odometer reading (mileage) increases, the condition tends to decrease slightly. However, the correlation is not very strong.\n",
        "\n",
        "**Condition vs. MMR (Manheim Market Report):**\n",
        "\n",
        "There is a weak positive correlation (0.281) between the condition of the vehicle and its Manheim Market Report (MMR) value.\n",
        "\n",
        "This indicates that vehicles with better condition may tend to have slightly higher MMR values, but the correlation is not very strong.\n",
        "\n",
        "**Condition vs. Selling Price:**\n",
        "\n",
        "There is a moderate positive correlation (0.322) between the condition of the vehicle and its selling price.\n",
        "\n",
        "This suggests that vehicles with better condition tend to have slightly higher selling prices, but again, the correlation is not very strong.\n",
        "\n",
        "**Odometer vs. MMR:**\n",
        "\n",
        "There is a strong negative correlation (-0.583) between the odometer reading (mileage) and the Manheim Market Report (MMR) value.\n",
        "This indicates that vehicles with higher mileage tend to have lower MMR values.\n",
        "\n",
        "**Odometer vs. Selling Price:**\n",
        "\n",
        "There is a strong negative correlation (-0.578) between the odometer reading (mileage) and the selling price.\n",
        "\n",
        "This suggests that vehicles with higher mileage tend to have lower selling prices.\n",
        "\n",
        "**MMR vs. Selling Price:**\n",
        "\n",
        "There is a very strong positive correlation (0.984) between the Manheim Market Report (MMR) value and the selling price.\n",
        "\n",
        "This indicates that there is a highly linear relationship between the MMR value and the selling price, with higher MMR values corresponding to significantly higher selling prices.\n",
        "\n",
        ">In summary, the correlation matrix reveals valuable insights into the relationships between different variables, providing useful information for decision-making processes related to vehicle pricing and condition assessment."
      ]
    },
    {
      "cell_type": "markdown",
      "metadata": {
        "id": "c4vTMB2hNtuT"
      },
      "source": [
        "# Analysis of Data\n",
        "\n",
        "## Data Pre-Processing\n",
        "\n",
        "###  Missing Data Statistics: Records\n",
        "\n",
        "The dataset was analyzed to identify missing values across various variables. The following summary provides insights into the extent of missing data:\n",
        "\n",
        "* Index: No missing values were observed for the index variable, indicating completeness in indexing.\n",
        "* Year: Complete data was observed for the year variable, with no missing values.\n",
        "* Make: 1644 entries had missing values for the make variable, suggesting incomplete information regarding the vehicle manufacturer.\n",
        "* Model: 1672 entries lacked information regarding the vehicle model, indicating incomplete model specifications.\n",
        "* Trim: 1973 entries were missing trim details, potentially impacting the granularity of vehicle categorization.\n",
        "* Body: A considerable number of entries (4517) lacked information on the body type of vehicles, suggesting incomplete characterization of vehicle configurations.\n",
        "* Transmission: A significant portion of the dataset (20266 entries) had missing transmission information, potentially affecting analyses related to drivetrain specifications.\n",
        "* VIN: No missing values were observed for the Vehicle Identification Number (VIN) variable, indicating comprehensive identification data.\n",
        "* State: One entry lacked information regarding the state of vehicle registration.\n",
        "* Condition: 11793 entries were missing condition ratings, indicating incomplete assessments of vehicle condition.\n",
        "* Odometer: 79 entries had missing odometer readings, potentially affecting analyses related to vehicle mileage.\n",
        "* Color: 283 entries lacked information regarding vehicle exterior color.\n",
        "* Interior: 283 entries were missing details about vehicle interior color, potentially impacting analyses related to interior specifications.\n",
        "* Seller: One entry lacked seller information.\n",
        "* MMR: One entry was missing Manheim Market Report (MMR) values, which estimate vehicle market values.\n",
        "* Selling Price: One entry was missing selling price information.\n",
        "* Sale Date: One entry lacked information regarding the date of sale.\n",
        "\n",
        "This comprehensive overview of missing data highlights potential gaps in the dataset and underscores the importance of addressing missing values to ensure the reliability and validity of subsequent analyses and insights derived from the data.\n",
        "\n",
        "> The output indicates the top 5 records with the highest number of missing values:\n",
        "\n",
        "* Record 172840: This record has 9 missing values across different variables.\n",
        "\n",
        "* Record 22530: This record exhibits 8 missing values, indicating incomplete information for multiple variables.\n",
        "\n",
        "* Record 30006: Similar to the previous record, this one also contains 8 missing values across various variables.\n",
        "\n",
        "* Record 109985: With 7 missing values, this record lacks information for several attributes.\n",
        "\n",
        "* Record 18638: This record has 6 missing values, suggesting partial data availability for several variables.\n",
        "\n",
        "These records with a high number of missing values may require special attention during data analysis and preprocessing to ensure the integrity and reliability of subsequent analyses and insights derived from the dataset.\n",
        "\n",
        "### Missing Data Treatment : categorical Variable\n",
        "\n",
        "The dataset contains 199,415 entries and 11 columns, all of which are categorical variables.\n",
        "\n",
        "Each column represents a different attribute related to vehicle listings, such as year, make, model, trim, etc.\n",
        "The data types for all columns are 'object', indicating categorical variables.\n",
        "\n",
        "**Missing Data Imputation:**\n",
        "\n",
        "The missing data imputation process was performed using the SimpleImputer from scikit-learn library, with the strategy set to 'most_frequent'.\n",
        "\n",
        "This strategy replaces missing values with the most frequent value along each column.\n",
        "\n",
        "As a result, all missing values in the dataset were filled in, ensuring that there are no longer any missing values.\n",
        "Imputed Dataset:\n",
        "\n",
        "The imputed dataset, named df_cat_mdi, contains no missing values, as indicated by the 'Non-Null Count' for each column.\n",
        "\n",
        "All columns now have 199,415 non-null entries, indicating that missing values have been successfully imputed.\n",
        "\n",
        "**Memory Usage:**\n",
        "\n",
        "The memory usage for the imputed dataset is approximately 16.7 MB, indicating that the dataset is manageable and should not pose any memory-related issues during analysis.\n",
        "\n",
        ">In conclusion, the missing categorical data imputation process was successful, resulting in a complete dataset ready for further analysis. This ensures that our analysis is based on a comprehensive dataset without any missing values, enabling more accurate insights and decision-making.\n",
        "\n",
        "### Missing Data Treatment : Non Categorical Variable\n",
        "\n",
        "The dataset contains 199,415 entries and 5 columns, all of which are non-categorical variables.\n",
        "Each column represents a different numerical attribute related to vehicle listings, such as condition, odometer reading, minimum market retail (MMR) value, selling price, and an index.\n",
        "\n",
        "The data types for all columns are 'float64', indicating numerical variables.\n",
        "\n",
        "**Missing Data Imputation:**\n",
        "\n",
        "The missing data imputation process was performed using the SimpleImputer from scikit-learn library, with the strategy set to 'mean'.\n",
        "\n",
        "This strategy replaces missing values with the mean value along each column.\n",
        "\n",
        "As a result, all missing values in the dataset were filled in, ensuring that there are no longer any missing values.\n",
        "\n",
        "**Imputed Dataset:**\n",
        "\n",
        "The imputed dataset, named df_noncat_mdi_si, contains no missing values, as indicated by the 'Non-Null Count' for each column.\n",
        "\n",
        "All columns now have 199,415 non-null entries, indicating that missing values have been successfully imputed.\n",
        "\n",
        "**Memory Usage:**\n",
        "\n",
        "The memory usage for the imputed dataset is approximately 7.6 MB, indicating that the dataset is manageable and should not pose any memory-related issues during analysis.\n",
        "\n",
        ">In conclusion, the missing non-categorical data imputation process was successful, resulting in a complete dataset ready for further analysis. This ensures that our analysis is based on a comprehensive dataset without any missing values, enabling more accurate insights and decision-making.\n",
        "\n",
        "## Numerical Encoding of Categorical Variables or Features\n",
        "\n",
        "**Ordinal Encoding**\n",
        "\n",
        "\n",
        "I applied ordinal encoding to the categorical features of the dataset using the OrdinalEncoder from scikit-learn. This encoding technique transforms categorical variables into numerical values, representing the order or rank of the categories.\n",
        "\n",
        "After fitting the encoder to the categorical data, I created a new DataFrame, df_cat_code_oe, to store the encoded values. Each categorical feature was encoded separately, and the column names were updated to reflect the encoding.\n",
        "\n",
        "To reintegrate the encoded categorical features into the original DataFrame, df_cat, I merged df_cat_code_oe with the original DataFrame using the concat function along the columns axis.\n",
        "\n",
        "This transformation enhances the data's analytical potential, particularly in the context of vehicle market segment analysis. The encoded categorical features offer a numerical representation of the categorical variables, facilitating various analytical techniques and models to uncover patterns, trends, and insights within the vehicle market segments.\n",
        "\n",
        "### Outlier Statistics and Treatment (Scaling | Transformation)\n",
        "\n",
        "To gain insights into the vehicle market segments, I utilized box plots to visually represent the distribution of key numerical features related to vehicle attributes and pricing. These features include 'condition', 'odometer', 'mmr' (Market Match Report), 'sellingprice', and 'index'.\n",
        "\n",
        "The analysis of the box plots provided valuable insights:\n",
        "\n",
        "* The 'condition' feature's box plot offered a comprehensive view of the distribution of vehicle conditions, allowing assessment of overall quality and condition.\n",
        "* The 'odometer' feature, reflecting vehicle mileage, displayed a range of mileage values, providing insights into vehicle usage and wear.\n",
        "* Examination of the 'mmr' feature, estimating market value, revealed potential outliers or discrepancies in market values, offering pricing insights.\n",
        "* Analysis of the 'sellingprice' feature through the box plot allowed for the evaluation of selling price distribution and identification of pricing trends or outliers.\n",
        "* Inclusion of the 'index' feature in the box plot provided insights into its distribution and variability, aiding in understanding potential indexing or identification patterns.\n",
        "\n",
        "By visually exploring these numerical features using box plots, I identified outliers, trends, and patterns within the dataset. These insights are crucial for informing strategic decisions related to pricing, marketing, and inventory management within the vehicle market segments.\n",
        "\n",
        "## Normalization\n",
        "\n",
        "Normalization Technique:\n",
        "\n",
        "Min-Max Scaling is a popular normalization technique used to transform numerical features to a common scale, typically between 0 and 1.\n",
        "\n",
        "This technique preserves the shape of the original distribution while bringing all features to the same scale.\n",
        "Implementation Details:\n",
        "\n",
        "Min-Max Scaling was applied to the non-categorical dataset, which includes attributes such as condition, odometer reading, minimum market retail (MMR) value, and selling price.\n",
        "\n",
        "The MinMaxScaler from scikit-learn library was used to perform the normalization.\n",
        "\n",
        "The resulting normalized features are labeled as 'condition_mms', 'odometer_mms', 'mmr_mms', and 'sellingprice_mms'.\n",
        "\n",
        "**Normalized Dataset:**\n",
        "\n",
        "The resulting normalized dataset, named df_noncat_mdt_mmn, contains 558,837 entries and 8 columns.\n",
        "\n",
        "Each column represents either the original numerical feature or its corresponding Min-Max scaled version.\n",
        "\n",
        "The normalized features now range between 0 and 1, making them suitable for machine learning algorithms that require standardized input.\n",
        "Analysis:\n",
        "\n",
        "Normalization ensures that all features contribute equally to the analysis, preventing attributes with larger scales from dominating the model training process.\n",
        "By bringing all features to a common scale, Min-Max Scaling facilitates easier interpretation and comparison of feature importance.\n",
        "\n",
        "Normalization enhances the convergence speed and performance of machine learning algorithms, particularly those sensitive to feature scales, such as K-means clustering or gradient descent-based optimization algorithms.\n",
        "\n",
        ">In summary, the application of Min-Max Scaling successfully normalized the non-categorical dataset, enabling more robust and effective analysis in subsequent modeling tasks."
      ]
    },
    {
      "cell_type": "markdown",
      "metadata": {
        "id": "-L-PmQpYTZkS"
      },
      "source": [
        "## Data Analysis\n",
        "\n",
        "### Decision Tree\n",
        "\n",
        "**Analysis of Subset Selection and Model Training**\n",
        "\n",
        "**Data Preparation:**\n",
        "The provided code snippet begins by selecting specific columns from a dataframe `df1` to create input features and output labels for a predictive model. These features include attributes such as `mpg`, `hp`, `cyl`, and `vs`, while the output label is `am`, representing some classification task.\n",
        "\n",
        "**Data Splitting:**\n",
        "To evaluate the performance of a predictive model, the dataset is split into training and testing subsets. This split is done in a stratified manner using `StratifiedShuffleSplit`, which ensures that the distribution of output labels remains consistent between the training and testing sets. This is important for maintaining the representativeness of the data subsets.\n",
        "\n",
        "**Model Selection and Training:**\n",
        "The chosen model for this analysis is a Decision Tree Classifier. Decision trees are a type of supervised learning algorithm used for both classification and regression tasks. In this case, the classifier is configured with specific parameters including the choice of criterion for splitting nodes (`gini` in this case) and the maximum depth of the tree (set to 3).\n",
        "\n",
        "**Interpretation:**\n",
        "The decision tree classifier is trained on the training subset of the data (`df1_inputs_train` and `df1_output_train`). During training, the model learns to make predictions by recursively splitting the input space based on the selected features (`mpg`, `hp`, `cyl`, and `vs`) and their respective values. The `max_depth` parameter controls the complexity of the tree by limiting the number of levels it can have.\n",
        "\n",
        "**Conclusion:**\n",
        "Overall, the provided code snippet demonstrates the process of preparing data for analysis, splitting it into training and testing subsets, selecting an appropriate model, and training the model on the training data. This forms the basis for further evaluation of the model's performance and its ability to accurately predict the output labels based on the input features.\n",
        "\n",
        "\n",
        "**Feature Importance:**\n",
        "The feature importance table indicates the contribution of each feature to the decision tree model's predictive performance. Features like `interior_code`, `condition_mms`, `condition`, and `make_code` are deemed most important, while others such as `year_code` and `mmr` have negligible importance. This suggests that the former features play a significant role in determining the classification outcome.\n",
        "\n",
        "**Model Rules:**\n",
        "The decision tree model rules outline the decision-making process of the trained model. It illustrates how the model partitions the feature space based on certain thresholds to classify the data points into different classes (e.g., 2.0 or 3.0). For example, if the value of `interior_code` is less than or equal to 15.50, and `make_code` is less than or equal to 51.50, then the predicted class is 3.0. These rules provide insights into the logic behind the model's predictions.\n",
        "\n",
        "**Model Evaluation (Training Subset):**\n",
        "- **Precision:** The precision measures the proportion of true positive predictions out of all positive predictions made by the model. In the training subset, the precision for class 2.0 and class 3.0 is approximately 38% and 40%, respectively. However, the precision for class 0.0 is 0%, indicating that the model did not make any correct positive predictions for this class.\n",
        "- **Recall:** Recall quantifies the model's ability to capture all positive instances of a class. The recall values for class 2.0 and class 3.0 are around 59% and 52%, respectively. Similarly, the recall for class 0.0 is 0%, indicating that the model failed to identify any true positives for this class.\n",
        "- **F1-score:** The F1-score is the harmonic mean of precision and recall. It provides a balanced measure of a model's performance across all classes. The F1-scores for class 2.0 and class 3.0 are around 46% and 45%, respectively. However, for class 0.0, the F1-score is 0%, reflecting the model's inability to correctly classify instances of this class.\n",
        "\n",
        "**Prediction Evaluation (Testing Subset):**\n",
        "The evaluation metrics for the testing subset are similar to those of the training subset. However, these metrics provide an assessment of the model's performance on unseen data.\n",
        "- The precision, recall, and F1-score values for each class in the testing subset are consistent with those of the training subset, indicating that the model's performance generalizes reasonably well to new data.\n",
        "- The warnings about ill-defined metrics for certain classes (e.g., class 0.0) suggest that there might be imbalance or insufficient representation of those classes in the dataset, leading to challenges in model training and evaluation.\n",
        "\n",
        "In summary, the decision tree model demonstrates moderate predictive performance, with notable feature importance and interpretable decision rules. However, there are areas for improvement, such as addressing class imbalances and refining the model's precision and recall for all classes."
      ]
    },
    {
      "cell_type": "markdown",
      "metadata": {
        "id": "KtwlVnMadENB"
      },
      "source": [
        "### KNN\n",
        "\n",
        "**Analysis of K-Nearest Neighbors (KNN) Classification**\n",
        "\n",
        "**Model Training and Testing:**\n",
        "I employed the K-Nearest Neighbors (KNN) algorithm to build a predictive model for the given dataset. The KNN algorithm is a non-parametric method used for classification tasks. In the code, I initialized the KNN classifier with a specified number of neighbors (k) and trained it using the training subset of the data. Subsequently, I made predictions on the testing subset to evaluate the model's performance.\n",
        "\n",
        "**Model Performance:**\n",
        "The accuracy of the KNN model was approximately 36.77%. Accuracy measures the proportion of correctly predicted instances out of the total instances in the testing subset. Additionally, I generated a classification report to assess the precision, recall, and F1-score for each class in the dataset.\n",
        "\n",
        "**Precision, Recall, and F1-score:**\n",
        "- **Precision:** Precision quantifies the ratio of correctly predicted positive instances to the total predicted positive instances. In this analysis, the precision values ranged from 34% to 41% across different classes. This indicates the model's ability to avoid false positives.\n",
        "- **Recall:** Recall, also known as sensitivity, measures the proportion of actual positive instances that were correctly identified by the model. The recall values varied from 28% to 44%, indicating the model's ability to capture true positives.\n",
        "- **F1-score:** The F1-score is the harmonic mean of precision and recall, providing a balanced measure of a model's performance. The F1-scores ranged from 33% to 38%, reflecting the model's overall effectiveness in classifying instances across different classes.\n",
        "\n",
        "**Analysis of K-values:**\n",
        "Furthermore, I conducted an analysis to determine the impact of different values of k on the model's performance. By iterating through various k-values (7, 9, 11, 13, and 15), I evaluated the accuracy of the model for each value of k. The results indicated that the accuracy fluctuated slightly across different values of k, with values ranging from approximately 37% to 37.3%.\n",
        "\n",
        "**Conclusion:**\n",
        "In conclusion, the KNN model demonstrated moderate predictive performance with an accuracy of approximately 36.77%. The precision, recall, and F1-score metrics provided insights into the model's ability to correctly classify instances across different classes. Additionally, the analysis of k-values helped understand the sensitivity of the model's performance to the choice of the number of neighbors. Overall, this analysis provides valuable insights into the effectiveness of the KNN algorithm for the given classification task."
      ]
    },
    {
      "cell_type": "markdown",
      "source": [
        "### Support Vector Machine\n",
        "\n",
        "**Analysis of Support Vector Machine (SVM) Model**\n",
        "\n",
        "**Stratified Splitting of Data:**\n",
        "I initially attempted to split the dataset into training and testing subsets using the `StratifiedShuffleSplit` method. However, it seems that I commented out this code block, resulting in using the entire dataset for model training and testing.\n",
        "\n",
        "**Model Training and Testing:**\n",
        "I utilized a Linear Support Vector Classifier (LinearSVC) for model training. SVM is a powerful supervised learning algorithm used for classification tasks. However, in this scenario, I opted for the linear kernel variant of SVM due to computational efficiency and ease of interpretation.\n",
        "\n",
        "**Model Performance:**\n",
        "The SVM model achieved an accuracy of approximately 35.88% on the testing subset. Although accuracy is an important metric, it should be interpreted alongside other evaluation metrics to gain a comprehensive understanding of the model's performance.\n",
        "\n",
        "**Precision, Recall, and F1-score:**\n",
        "- **Precision:** Precision measures the proportion of correctly predicted positive instances out of all instances predicted as positive. Precision values varied from 26% to 52% across different classes.\n",
        "- **Recall:** Recall quantifies the model's ability to capture all positive instances of a class. Recall values ranged from 1% to 97% across different classes.\n",
        "- **F1-score:** The F1-score is the harmonic mean of precision and recall, providing a balanced measure of a model's performance. F1-scores ranged from 1% to 52%, reflecting the model's overall effectiveness in classifying instances across different classes.\n",
        "\n",
        "**Conclusion:**\n",
        "In conclusion, the SVM model demonstrates modest predictive performance with an accuracy of approximately 35.88%. While the model performs well in capturing true positives for class 2.0, it struggles with classifying instances of other classes. Further investigation and potentially refining the model's parameters may help improve its overall performance."
      ],
      "metadata": {
        "id": "UeS--ubhwHmn"
      }
    },
    {
      "cell_type": "markdown",
      "source": [
        "### Logistic Regression\n",
        "\n",
        "**Analysis of Logistic Regression Model**\n",
        "\n",
        "**Model Creation and Training:**\n",
        "I created a logistic regression model using the `LogisticRegression` class from the scikit-learn library. Logistic regression is a commonly used statistical method for binary classification tasks, but it can also be extended to handle multi-class classification, which is the case in this scenario. The model was trained using the training subset of the dataset.\n",
        "\n",
        "**Model Performance:**\n",
        "The logistic regression model achieved an accuracy of approximately 38.17% on the testing subset. Accuracy measures the proportion of correctly classified instances out of the total instances in the testing subset. While accuracy is a useful metric, it is important to delve deeper into the model's performance using other evaluation metrics.\n",
        "\n",
        "**Precision, Recall, and F1-score:**\n",
        "- **Precision:** Precision quantifies the ratio of correctly predicted positive instances to the total predicted positive instances. In this analysis, precision values varied from 35% to 40% across different classes. Precision provides insights into the model's ability to avoid false positives.\n",
        "- **Recall:** Recall measures the proportion of actual positive instances that were correctly identified by the model. Recall values ranged from 5% to 62%, indicating the model's effectiveness in capturing true positives.\n",
        "- **F1-score:** The F1-score is the harmonic mean of precision and recall, offering a balanced measure of a model's performance. F1-scores ranged from 9% to 47%, reflecting the model's overall effectiveness in classifying instances across different classes.\n",
        "\n",
        "**Confusion Matrix:**\n",
        "The confusion matrix provides a detailed breakdown of the model's performance by showing the number of true positive, false positive, true negative, and false negative predictions for each class. From the confusion matrix, we can observe the distribution of correct and incorrect predictions across different classes.\n",
        "\n",
        "**Conclusion:**\n",
        "In conclusion, the logistic regression model demonstrates moderate predictive performance with an accuracy of approximately 38.17%. Precision, recall, and F1-score metrics provide insights into the model's ability to correctly classify instances across different classes. While the model shows promise, there may be room for improvement in addressing the class imbalance and refining the model's predictive capabilities.\n"
      ],
      "metadata": {
        "id": "Qp2_5OVHfSMv"
      }
    },
    {
      "cell_type": "markdown",
      "source": [
        "\n",
        "\n",
        "##**4. Results | Observations**\n",
        "\n",
        "**4.1. Classification Model Parameters:**\n",
        "- **Base Model (Decision Tree):**\n",
        "  - Criterion: Gini\n",
        "  - Max Depth: 3\n",
        "  - Random State: 45024\n",
        "\n",
        "- **Comparison Models:**\n",
        "  - **Logistic Regression:**\n",
        "    - Solver: liblinear\n",
        "    - Random State: 45024\n",
        "  - **Support Vector Machine (SVM):**\n",
        "    - Kernel: Linear\n",
        "    - Random State: 45024\n",
        "  - **K Nearest Neighbors (KNN):**\n",
        "    - Number of Neighbors (k): 5\n",
        "\n",
        "##Observation\n",
        "\n",
        "1. **Model Selection:**\n",
        "   - Considering the performance metrics of all models (accuracy, precision, recall, and F1-score), it's important to choose the most suitable model for the specific business problem at hand.\n",
        "   - The decision tree model provides interpretable rules for classification, making it suitable for scenarios where transparency and explainability are crucial.\n",
        "   - SVM and Logistic Regression models demonstrate moderate predictive performance, with SVM showing a better ability to capture true positives for class 2.0.\n",
        "   - KNN may require further optimization, as its performance is slightly lower compared to other models.\n",
        "\n",
        "2. **Resource Allocation:**\n",
        "   - Based on the chosen model, allocate resources such as time, budget, and expertise for model development, implementation, and maintenance.\n",
        "   - For instance, decision tree models require less computational resources for training and prediction compared to SVM, which might require more computational power.\n",
        "\n",
        "3. **Model Refinement:**\n",
        "   - Continuously monitor and refine the chosen model to improve its performance over time.\n",
        "   - This could involve hyperparameter tuning, feature engineering, and data preprocessing techniques to enhance the model's predictive capabilities.\n",
        "\n",
        "4. **Decision Making:**\n",
        "   - Utilize the predictions generated by the chosen model to support decision-making processes within the organization.\n",
        "   - For example, predictions from the model can inform strategic decisions related to customer segmentation, risk assessment, and resource allocation.\n",
        "\n",
        "5. **Risk Management:**\n",
        "   - Assess and mitigate risks associated with model predictions, especially false positives and false negatives.\n",
        "   - Develop strategies to minimize potential negative impacts of incorrect predictions on business operations and stakeholder trust.\n",
        "\n",
        "6. **Training and Education:**\n",
        "   - Provide training and education to relevant stakeholders (e.g., managers, analysts) on the interpretation and use of the chosen model.\n",
        "   - This ensures that decision-makers understand the strengths, limitations, and implications of the model in their decision-making processes.\n",
        "\n",
        "7. **Performance Monitoring:**\n",
        "   - Implement mechanisms to monitor the ongoing performance of the deployed model and its impact on business outcomes.\n",
        "   - Regularly evaluate model performance metrics and make adjustments as necessary to maintain relevance and effectiveness.\n"
      ],
      "metadata": {
        "id": "Yd3ULFTjxsHJ"
      }
    },
    {
      "cell_type": "code",
      "execution_count": null,
      "metadata": {
        "id": "5TFJzqQvUaJf"
      },
      "outputs": [],
      "source": [
        "## Data Visualization Libraries\n",
        "import pandas as pd\n",
        "import numpy as np\n",
        "import matplotlib.pyplot as plt\n",
        "import seaborn as sns\n",
        "import plotly.graph_objects as go\n",
        "from wordcloud import WordCloud\n",
        "from collections import Counter\n",
        "from scipy import stats\n",
        "from sklearn.tree import plot_tree\n",
        "\n",
        "## Data Preprocessing Libraries\n",
        "from sklearn.preprocessing import OrdinalEncoder\n",
        "from sklearn.impute import SimpleImputer, KNNImputer\n",
        "from sklearn.preprocessing import StandardScaler, MinMaxScaler\n",
        "from sklearn.model_selection import train_test_split, StratifiedShuffleSplit\n",
        "from sklearn.metrics import f1_score\n",
        "\n",
        "## Machine Learning Models and Evaluation Metrics\n",
        "from sklearn.tree import DecisionTreeClassifier, export_text, plot_tree\n",
        "from sklearn.neighbors import KNeighborsClassifier\n",
        "from sklearn.svm import SVC\n",
        "from sklearn.svm import LinearSVC\n",
        "from sklearn.utils.validation import column_or_1d\n",
        "from sklearn.metrics import accuracy_score, classification_report, confusion_matrix, f1_score, precision_recall_fscore_support\n",
        "from sklearn.model_selection import cross_val_score\n",
        "from sklearn.linear_model import LogisticRegression, Lasso, Ridge\n",
        "from sklearn.metrics import make_scorer\n",
        "from sklearn.pipeline import make_pipeline"
      ]
    },
    {
      "cell_type": "code",
      "execution_count": null,
      "metadata": {
        "id": "oi5ghd15VDgO"
      },
      "outputs": [],
      "source": [
        "#Display All Columns of Dataset\n",
        "pd.set_option('display.max_columns', None)"
      ]
    },
    {
      "cell_type": "code",
      "execution_count": null,
      "metadata": {
        "id": "ZT5HbDEGVG36",
        "colab": {
          "base_uri": "https://localhost:8080/"
        },
        "outputId": "f866a2d0-d903-4092-f859-cdfc31f1c7c0"
      },
      "outputs": [
        {
          "output_type": "stream",
          "name": "stdout",
          "text": [
            "Drive already mounted at /content/drive; to attempt to forcibly remount, call drive.mount(\"/content/drive\", force_remount=True).\n"
          ]
        }
      ],
      "source": [
        "from google.colab import drive\n",
        "\n",
        "# Mount Google Drive\n",
        "drive.mount('/content/drive')"
      ]
    },
    {
      "cell_type": "code",
      "execution_count": null,
      "metadata": {
        "id": "Klv_4JVaVZQ1"
      },
      "outputs": [],
      "source": [
        "import pandas as pd\n",
        "\n",
        "# Provide the path to your CSV file\n",
        "file_path = '/content/drive/MyDrive/data.csv'\n",
        "\n",
        "# Read the CSV file into a DataFrame\n",
        "df = pd.read_csv(file_path)"
      ]
    },
    {
      "cell_type": "code",
      "execution_count": null,
      "metadata": {
        "id": "xPFOW7C1d0sX",
        "colab": {
          "base_uri": "https://localhost:8080/"
        },
        "outputId": "030f4813-be28-4072-c964-2993b4916f50"
      },
      "outputs": [
        {
          "output_type": "stream",
          "name": "stdout",
          "text": [
            "Drive already mounted at /content/drive; to attempt to forcibly remount, call drive.mount(\"/content/drive\", force_remount=True).\n"
          ]
        }
      ],
      "source": [
        "from google.colab import drive\n",
        "drive.mount('/content/drive')"
      ]
    },
    {
      "cell_type": "code",
      "execution_count": null,
      "metadata": {
        "id": "Y2aDXkgHd1O-",
        "colab": {
          "base_uri": "https://localhost:8080/",
          "height": 444
        },
        "outputId": "4954a764-bacf-49e2-c7e0-f1319cfaab1d"
      },
      "outputs": [
        {
          "output_type": "execute_result",
          "data": {
            "text/plain": [
              "        Index_x_x  year_code  make_code  model_code  trim_code  body_code  \\\n",
              "0               1       33.0       24.0       658.0      998.0       36.0   \n",
              "1               2       33.0       24.0       658.0      998.0       36.0   \n",
              "2               3       32.0        3.0         9.0      283.0       37.0   \n",
              "3               4       33.0       51.0       596.0     1399.0       37.0   \n",
              "4               5       32.0        3.0        42.0      498.0       37.0   \n",
              "...           ...        ...        ...         ...        ...        ...   \n",
              "323357     323358       31.0       19.0        66.0      839.0       37.0   \n",
              "323358     323359       31.0       19.0       236.0      839.0       37.0   \n",
              "323359     323360       31.0       19.0        66.0      839.0       37.0   \n",
              "323360     323361       31.0       19.0        66.0      839.0       37.0   \n",
              "323361     323362       31.0       19.0        66.0      839.0       37.0   \n",
              "\n",
              "        transmission_code  state_code  color_code  interior_code  seller_code  \\\n",
              "0                     1.0        29.0        43.0            1.0       7202.0   \n",
              "1                     1.0        29.0        43.0            0.0       7202.0   \n",
              "2                     1.0        29.0        33.0            1.0       4978.0   \n",
              "3                     1.0        29.0        43.0            1.0      13795.0   \n",
              "4                     1.0        29.0        33.0            1.0       4978.0   \n",
              "...                   ...         ...         ...            ...          ...   \n",
              "323357                1.0        59.0        43.0           13.0       8512.0   \n",
              "323358                1.0        59.0        29.0           13.0       8512.0   \n",
              "323359                1.0        59.0        28.0           13.0       8512.0   \n",
              "323360                1.0        59.0        40.0            6.0       8512.0   \n",
              "323361                1.0        59.0        28.0            0.0       8512.0   \n",
              "\n",
              "        condition  odometer      mmr  sellingprice   Index_y  condition_mms  \\\n",
              "0             5.0   16639.0  20500.0       21500.0       1.0       0.083333   \n",
              "1             5.0    9393.0  20800.0       21500.0       2.0       0.083333   \n",
              "2            45.0    1331.0  31900.0       30000.0       3.0       0.916667   \n",
              "3            41.0   14282.0  27500.0       27750.0       4.0       0.833333   \n",
              "4            43.0    2641.0  66000.0       67000.0       5.0       0.875000   \n",
              "...           ...       ...      ...           ...       ...            ...   \n",
              "323357       41.0   35905.0   9625.0        9600.0  323358.0       0.833333   \n",
              "323358       43.0   24748.0  12000.0       11800.0  323359.0       0.875000   \n",
              "323359       42.0   20151.0  10100.0        9800.0  323360.0       0.854167   \n",
              "323360        4.0   25687.0   9925.0       10100.0  323361.0       0.062500   \n",
              "323361       39.0   24108.0   9975.0        9600.0  323362.0       0.791667   \n",
              "\n",
              "        odometer_mms   mmr_mms  sellingprice_mms  Cluster_Label_x  Index_x_y  \\\n",
              "0           0.016638  0.112515          0.093474              3.0        1.0   \n",
              "1           0.009392  0.114164          0.093474              3.0        2.0   \n",
              "2           0.001330  0.175161          0.130431              3.0        3.0   \n",
              "3           0.014281  0.150982          0.120648              3.0        4.0   \n",
              "4           0.002640  0.362550          0.291301              3.0        5.0   \n",
              "...              ...       ...               ...              ...        ...   \n",
              "323357      0.035904  0.052754          0.041735              0.0   323358.0   \n",
              "323358      0.024747  0.065806          0.051300              0.0   323359.0   \n",
              "323359      0.020150  0.055365          0.042605              0.0   323360.0   \n",
              "323360      0.025686  0.054403          0.043909              0.0   323361.0   \n",
              "323361      0.024107  0.054678          0.041735              0.0   323362.0   \n",
              "\n",
              "        Cluster_Label_y  \n",
              "0                   3.0  \n",
              "1                   3.0  \n",
              "2                   3.0  \n",
              "3                   3.0  \n",
              "4                   3.0  \n",
              "...                 ...  \n",
              "323357              0.0  \n",
              "323358              0.0  \n",
              "323359              0.0  \n",
              "323360              0.0  \n",
              "323361              0.0  \n",
              "\n",
              "[323362 rows x 23 columns]"
            ],
            "text/html": [
              "\n",
              "  <div id=\"df-2cf9b3e2-ee81-45a3-889a-df8d028b368d\" class=\"colab-df-container\">\n",
              "    <div>\n",
              "<style scoped>\n",
              "    .dataframe tbody tr th:only-of-type {\n",
              "        vertical-align: middle;\n",
              "    }\n",
              "\n",
              "    .dataframe tbody tr th {\n",
              "        vertical-align: top;\n",
              "    }\n",
              "\n",
              "    .dataframe thead th {\n",
              "        text-align: right;\n",
              "    }\n",
              "</style>\n",
              "<table border=\"1\" class=\"dataframe\">\n",
              "  <thead>\n",
              "    <tr style=\"text-align: right;\">\n",
              "      <th></th>\n",
              "      <th>Index_x_x</th>\n",
              "      <th>year_code</th>\n",
              "      <th>make_code</th>\n",
              "      <th>model_code</th>\n",
              "      <th>trim_code</th>\n",
              "      <th>body_code</th>\n",
              "      <th>transmission_code</th>\n",
              "      <th>state_code</th>\n",
              "      <th>color_code</th>\n",
              "      <th>interior_code</th>\n",
              "      <th>seller_code</th>\n",
              "      <th>condition</th>\n",
              "      <th>odometer</th>\n",
              "      <th>mmr</th>\n",
              "      <th>sellingprice</th>\n",
              "      <th>Index_y</th>\n",
              "      <th>condition_mms</th>\n",
              "      <th>odometer_mms</th>\n",
              "      <th>mmr_mms</th>\n",
              "      <th>sellingprice_mms</th>\n",
              "      <th>Cluster_Label_x</th>\n",
              "      <th>Index_x_y</th>\n",
              "      <th>Cluster_Label_y</th>\n",
              "    </tr>\n",
              "  </thead>\n",
              "  <tbody>\n",
              "    <tr>\n",
              "      <th>0</th>\n",
              "      <td>1</td>\n",
              "      <td>33.0</td>\n",
              "      <td>24.0</td>\n",
              "      <td>658.0</td>\n",
              "      <td>998.0</td>\n",
              "      <td>36.0</td>\n",
              "      <td>1.0</td>\n",
              "      <td>29.0</td>\n",
              "      <td>43.0</td>\n",
              "      <td>1.0</td>\n",
              "      <td>7202.0</td>\n",
              "      <td>5.0</td>\n",
              "      <td>16639.0</td>\n",
              "      <td>20500.0</td>\n",
              "      <td>21500.0</td>\n",
              "      <td>1.0</td>\n",
              "      <td>0.083333</td>\n",
              "      <td>0.016638</td>\n",
              "      <td>0.112515</td>\n",
              "      <td>0.093474</td>\n",
              "      <td>3.0</td>\n",
              "      <td>1.0</td>\n",
              "      <td>3.0</td>\n",
              "    </tr>\n",
              "    <tr>\n",
              "      <th>1</th>\n",
              "      <td>2</td>\n",
              "      <td>33.0</td>\n",
              "      <td>24.0</td>\n",
              "      <td>658.0</td>\n",
              "      <td>998.0</td>\n",
              "      <td>36.0</td>\n",
              "      <td>1.0</td>\n",
              "      <td>29.0</td>\n",
              "      <td>43.0</td>\n",
              "      <td>0.0</td>\n",
              "      <td>7202.0</td>\n",
              "      <td>5.0</td>\n",
              "      <td>9393.0</td>\n",
              "      <td>20800.0</td>\n",
              "      <td>21500.0</td>\n",
              "      <td>2.0</td>\n",
              "      <td>0.083333</td>\n",
              "      <td>0.009392</td>\n",
              "      <td>0.114164</td>\n",
              "      <td>0.093474</td>\n",
              "      <td>3.0</td>\n",
              "      <td>2.0</td>\n",
              "      <td>3.0</td>\n",
              "    </tr>\n",
              "    <tr>\n",
              "      <th>2</th>\n",
              "      <td>3</td>\n",
              "      <td>32.0</td>\n",
              "      <td>3.0</td>\n",
              "      <td>9.0</td>\n",
              "      <td>283.0</td>\n",
              "      <td>37.0</td>\n",
              "      <td>1.0</td>\n",
              "      <td>29.0</td>\n",
              "      <td>33.0</td>\n",
              "      <td>1.0</td>\n",
              "      <td>4978.0</td>\n",
              "      <td>45.0</td>\n",
              "      <td>1331.0</td>\n",
              "      <td>31900.0</td>\n",
              "      <td>30000.0</td>\n",
              "      <td>3.0</td>\n",
              "      <td>0.916667</td>\n",
              "      <td>0.001330</td>\n",
              "      <td>0.175161</td>\n",
              "      <td>0.130431</td>\n",
              "      <td>3.0</td>\n",
              "      <td>3.0</td>\n",
              "      <td>3.0</td>\n",
              "    </tr>\n",
              "    <tr>\n",
              "      <th>3</th>\n",
              "      <td>4</td>\n",
              "      <td>33.0</td>\n",
              "      <td>51.0</td>\n",
              "      <td>596.0</td>\n",
              "      <td>1399.0</td>\n",
              "      <td>37.0</td>\n",
              "      <td>1.0</td>\n",
              "      <td>29.0</td>\n",
              "      <td>43.0</td>\n",
              "      <td>1.0</td>\n",
              "      <td>13795.0</td>\n",
              "      <td>41.0</td>\n",
              "      <td>14282.0</td>\n",
              "      <td>27500.0</td>\n",
              "      <td>27750.0</td>\n",
              "      <td>4.0</td>\n",
              "      <td>0.833333</td>\n",
              "      <td>0.014281</td>\n",
              "      <td>0.150982</td>\n",
              "      <td>0.120648</td>\n",
              "      <td>3.0</td>\n",
              "      <td>4.0</td>\n",
              "      <td>3.0</td>\n",
              "    </tr>\n",
              "    <tr>\n",
              "      <th>4</th>\n",
              "      <td>5</td>\n",
              "      <td>32.0</td>\n",
              "      <td>3.0</td>\n",
              "      <td>42.0</td>\n",
              "      <td>498.0</td>\n",
              "      <td>37.0</td>\n",
              "      <td>1.0</td>\n",
              "      <td>29.0</td>\n",
              "      <td>33.0</td>\n",
              "      <td>1.0</td>\n",
              "      <td>4978.0</td>\n",
              "      <td>43.0</td>\n",
              "      <td>2641.0</td>\n",
              "      <td>66000.0</td>\n",
              "      <td>67000.0</td>\n",
              "      <td>5.0</td>\n",
              "      <td>0.875000</td>\n",
              "      <td>0.002640</td>\n",
              "      <td>0.362550</td>\n",
              "      <td>0.291301</td>\n",
              "      <td>3.0</td>\n",
              "      <td>5.0</td>\n",
              "      <td>3.0</td>\n",
              "    </tr>\n",
              "    <tr>\n",
              "      <th>...</th>\n",
              "      <td>...</td>\n",
              "      <td>...</td>\n",
              "      <td>...</td>\n",
              "      <td>...</td>\n",
              "      <td>...</td>\n",
              "      <td>...</td>\n",
              "      <td>...</td>\n",
              "      <td>...</td>\n",
              "      <td>...</td>\n",
              "      <td>...</td>\n",
              "      <td>...</td>\n",
              "      <td>...</td>\n",
              "      <td>...</td>\n",
              "      <td>...</td>\n",
              "      <td>...</td>\n",
              "      <td>...</td>\n",
              "      <td>...</td>\n",
              "      <td>...</td>\n",
              "      <td>...</td>\n",
              "      <td>...</td>\n",
              "      <td>...</td>\n",
              "      <td>...</td>\n",
              "      <td>...</td>\n",
              "    </tr>\n",
              "    <tr>\n",
              "      <th>323357</th>\n",
              "      <td>323358</td>\n",
              "      <td>31.0</td>\n",
              "      <td>19.0</td>\n",
              "      <td>66.0</td>\n",
              "      <td>839.0</td>\n",
              "      <td>37.0</td>\n",
              "      <td>1.0</td>\n",
              "      <td>59.0</td>\n",
              "      <td>43.0</td>\n",
              "      <td>13.0</td>\n",
              "      <td>8512.0</td>\n",
              "      <td>41.0</td>\n",
              "      <td>35905.0</td>\n",
              "      <td>9625.0</td>\n",
              "      <td>9600.0</td>\n",
              "      <td>323358.0</td>\n",
              "      <td>0.833333</td>\n",
              "      <td>0.035904</td>\n",
              "      <td>0.052754</td>\n",
              "      <td>0.041735</td>\n",
              "      <td>0.0</td>\n",
              "      <td>323358.0</td>\n",
              "      <td>0.0</td>\n",
              "    </tr>\n",
              "    <tr>\n",
              "      <th>323358</th>\n",
              "      <td>323359</td>\n",
              "      <td>31.0</td>\n",
              "      <td>19.0</td>\n",
              "      <td>236.0</td>\n",
              "      <td>839.0</td>\n",
              "      <td>37.0</td>\n",
              "      <td>1.0</td>\n",
              "      <td>59.0</td>\n",
              "      <td>29.0</td>\n",
              "      <td>13.0</td>\n",
              "      <td>8512.0</td>\n",
              "      <td>43.0</td>\n",
              "      <td>24748.0</td>\n",
              "      <td>12000.0</td>\n",
              "      <td>11800.0</td>\n",
              "      <td>323359.0</td>\n",
              "      <td>0.875000</td>\n",
              "      <td>0.024747</td>\n",
              "      <td>0.065806</td>\n",
              "      <td>0.051300</td>\n",
              "      <td>0.0</td>\n",
              "      <td>323359.0</td>\n",
              "      <td>0.0</td>\n",
              "    </tr>\n",
              "    <tr>\n",
              "      <th>323359</th>\n",
              "      <td>323360</td>\n",
              "      <td>31.0</td>\n",
              "      <td>19.0</td>\n",
              "      <td>66.0</td>\n",
              "      <td>839.0</td>\n",
              "      <td>37.0</td>\n",
              "      <td>1.0</td>\n",
              "      <td>59.0</td>\n",
              "      <td>28.0</td>\n",
              "      <td>13.0</td>\n",
              "      <td>8512.0</td>\n",
              "      <td>42.0</td>\n",
              "      <td>20151.0</td>\n",
              "      <td>10100.0</td>\n",
              "      <td>9800.0</td>\n",
              "      <td>323360.0</td>\n",
              "      <td>0.854167</td>\n",
              "      <td>0.020150</td>\n",
              "      <td>0.055365</td>\n",
              "      <td>0.042605</td>\n",
              "      <td>0.0</td>\n",
              "      <td>323360.0</td>\n",
              "      <td>0.0</td>\n",
              "    </tr>\n",
              "    <tr>\n",
              "      <th>323360</th>\n",
              "      <td>323361</td>\n",
              "      <td>31.0</td>\n",
              "      <td>19.0</td>\n",
              "      <td>66.0</td>\n",
              "      <td>839.0</td>\n",
              "      <td>37.0</td>\n",
              "      <td>1.0</td>\n",
              "      <td>59.0</td>\n",
              "      <td>40.0</td>\n",
              "      <td>6.0</td>\n",
              "      <td>8512.0</td>\n",
              "      <td>4.0</td>\n",
              "      <td>25687.0</td>\n",
              "      <td>9925.0</td>\n",
              "      <td>10100.0</td>\n",
              "      <td>323361.0</td>\n",
              "      <td>0.062500</td>\n",
              "      <td>0.025686</td>\n",
              "      <td>0.054403</td>\n",
              "      <td>0.043909</td>\n",
              "      <td>0.0</td>\n",
              "      <td>323361.0</td>\n",
              "      <td>0.0</td>\n",
              "    </tr>\n",
              "    <tr>\n",
              "      <th>323361</th>\n",
              "      <td>323362</td>\n",
              "      <td>31.0</td>\n",
              "      <td>19.0</td>\n",
              "      <td>66.0</td>\n",
              "      <td>839.0</td>\n",
              "      <td>37.0</td>\n",
              "      <td>1.0</td>\n",
              "      <td>59.0</td>\n",
              "      <td>28.0</td>\n",
              "      <td>0.0</td>\n",
              "      <td>8512.0</td>\n",
              "      <td>39.0</td>\n",
              "      <td>24108.0</td>\n",
              "      <td>9975.0</td>\n",
              "      <td>9600.0</td>\n",
              "      <td>323362.0</td>\n",
              "      <td>0.791667</td>\n",
              "      <td>0.024107</td>\n",
              "      <td>0.054678</td>\n",
              "      <td>0.041735</td>\n",
              "      <td>0.0</td>\n",
              "      <td>323362.0</td>\n",
              "      <td>0.0</td>\n",
              "    </tr>\n",
              "  </tbody>\n",
              "</table>\n",
              "<p>323362 rows × 23 columns</p>\n",
              "</div>\n",
              "    <div class=\"colab-df-buttons\">\n",
              "\n",
              "  <div class=\"colab-df-container\">\n",
              "    <button class=\"colab-df-convert\" onclick=\"convertToInteractive('df-2cf9b3e2-ee81-45a3-889a-df8d028b368d')\"\n",
              "            title=\"Convert this dataframe to an interactive table.\"\n",
              "            style=\"display:none;\">\n",
              "\n",
              "  <svg xmlns=\"http://www.w3.org/2000/svg\" height=\"24px\" viewBox=\"0 -960 960 960\">\n",
              "    <path d=\"M120-120v-720h720v720H120Zm60-500h600v-160H180v160Zm220 220h160v-160H400v160Zm0 220h160v-160H400v160ZM180-400h160v-160H180v160Zm440 0h160v-160H620v160ZM180-180h160v-160H180v160Zm440 0h160v-160H620v160Z\"/>\n",
              "  </svg>\n",
              "    </button>\n",
              "\n",
              "  <style>\n",
              "    .colab-df-container {\n",
              "      display:flex;\n",
              "      gap: 12px;\n",
              "    }\n",
              "\n",
              "    .colab-df-convert {\n",
              "      background-color: #E8F0FE;\n",
              "      border: none;\n",
              "      border-radius: 50%;\n",
              "      cursor: pointer;\n",
              "      display: none;\n",
              "      fill: #1967D2;\n",
              "      height: 32px;\n",
              "      padding: 0 0 0 0;\n",
              "      width: 32px;\n",
              "    }\n",
              "\n",
              "    .colab-df-convert:hover {\n",
              "      background-color: #E2EBFA;\n",
              "      box-shadow: 0px 1px 2px rgba(60, 64, 67, 0.3), 0px 1px 3px 1px rgba(60, 64, 67, 0.15);\n",
              "      fill: #174EA6;\n",
              "    }\n",
              "\n",
              "    .colab-df-buttons div {\n",
              "      margin-bottom: 4px;\n",
              "    }\n",
              "\n",
              "    [theme=dark] .colab-df-convert {\n",
              "      background-color: #3B4455;\n",
              "      fill: #D2E3FC;\n",
              "    }\n",
              "\n",
              "    [theme=dark] .colab-df-convert:hover {\n",
              "      background-color: #434B5C;\n",
              "      box-shadow: 0px 1px 3px 1px rgba(0, 0, 0, 0.15);\n",
              "      filter: drop-shadow(0px 1px 2px rgba(0, 0, 0, 0.3));\n",
              "      fill: #FFFFFF;\n",
              "    }\n",
              "  </style>\n",
              "\n",
              "    <script>\n",
              "      const buttonEl =\n",
              "        document.querySelector('#df-2cf9b3e2-ee81-45a3-889a-df8d028b368d button.colab-df-convert');\n",
              "      buttonEl.style.display =\n",
              "        google.colab.kernel.accessAllowed ? 'block' : 'none';\n",
              "\n",
              "      async function convertToInteractive(key) {\n",
              "        const element = document.querySelector('#df-2cf9b3e2-ee81-45a3-889a-df8d028b368d');\n",
              "        const dataTable =\n",
              "          await google.colab.kernel.invokeFunction('convertToInteractive',\n",
              "                                                    [key], {});\n",
              "        if (!dataTable) return;\n",
              "\n",
              "        const docLinkHtml = 'Like what you see? Visit the ' +\n",
              "          '<a target=\"_blank\" href=https://colab.research.google.com/notebooks/data_table.ipynb>data table notebook</a>'\n",
              "          + ' to learn more about interactive tables.';\n",
              "        element.innerHTML = '';\n",
              "        dataTable['output_type'] = 'display_data';\n",
              "        await google.colab.output.renderOutput(dataTable, element);\n",
              "        const docLink = document.createElement('div');\n",
              "        docLink.innerHTML = docLinkHtml;\n",
              "        element.appendChild(docLink);\n",
              "      }\n",
              "    </script>\n",
              "  </div>\n",
              "\n",
              "\n",
              "<div id=\"df-5532298e-77d7-403d-8c99-282bd818daae\">\n",
              "  <button class=\"colab-df-quickchart\" onclick=\"quickchart('df-5532298e-77d7-403d-8c99-282bd818daae')\"\n",
              "            title=\"Suggest charts\"\n",
              "            style=\"display:none;\">\n",
              "\n",
              "<svg xmlns=\"http://www.w3.org/2000/svg\" height=\"24px\"viewBox=\"0 0 24 24\"\n",
              "     width=\"24px\">\n",
              "    <g>\n",
              "        <path d=\"M19 3H5c-1.1 0-2 .9-2 2v14c0 1.1.9 2 2 2h14c1.1 0 2-.9 2-2V5c0-1.1-.9-2-2-2zM9 17H7v-7h2v7zm4 0h-2V7h2v10zm4 0h-2v-4h2v4z\"/>\n",
              "    </g>\n",
              "</svg>\n",
              "  </button>\n",
              "\n",
              "<style>\n",
              "  .colab-df-quickchart {\n",
              "      --bg-color: #E8F0FE;\n",
              "      --fill-color: #1967D2;\n",
              "      --hover-bg-color: #E2EBFA;\n",
              "      --hover-fill-color: #174EA6;\n",
              "      --disabled-fill-color: #AAA;\n",
              "      --disabled-bg-color: #DDD;\n",
              "  }\n",
              "\n",
              "  [theme=dark] .colab-df-quickchart {\n",
              "      --bg-color: #3B4455;\n",
              "      --fill-color: #D2E3FC;\n",
              "      --hover-bg-color: #434B5C;\n",
              "      --hover-fill-color: #FFFFFF;\n",
              "      --disabled-bg-color: #3B4455;\n",
              "      --disabled-fill-color: #666;\n",
              "  }\n",
              "\n",
              "  .colab-df-quickchart {\n",
              "    background-color: var(--bg-color);\n",
              "    border: none;\n",
              "    border-radius: 50%;\n",
              "    cursor: pointer;\n",
              "    display: none;\n",
              "    fill: var(--fill-color);\n",
              "    height: 32px;\n",
              "    padding: 0;\n",
              "    width: 32px;\n",
              "  }\n",
              "\n",
              "  .colab-df-quickchart:hover {\n",
              "    background-color: var(--hover-bg-color);\n",
              "    box-shadow: 0 1px 2px rgba(60, 64, 67, 0.3), 0 1px 3px 1px rgba(60, 64, 67, 0.15);\n",
              "    fill: var(--button-hover-fill-color);\n",
              "  }\n",
              "\n",
              "  .colab-df-quickchart-complete:disabled,\n",
              "  .colab-df-quickchart-complete:disabled:hover {\n",
              "    background-color: var(--disabled-bg-color);\n",
              "    fill: var(--disabled-fill-color);\n",
              "    box-shadow: none;\n",
              "  }\n",
              "\n",
              "  .colab-df-spinner {\n",
              "    border: 2px solid var(--fill-color);\n",
              "    border-color: transparent;\n",
              "    border-bottom-color: var(--fill-color);\n",
              "    animation:\n",
              "      spin 1s steps(1) infinite;\n",
              "  }\n",
              "\n",
              "  @keyframes spin {\n",
              "    0% {\n",
              "      border-color: transparent;\n",
              "      border-bottom-color: var(--fill-color);\n",
              "      border-left-color: var(--fill-color);\n",
              "    }\n",
              "    20% {\n",
              "      border-color: transparent;\n",
              "      border-left-color: var(--fill-color);\n",
              "      border-top-color: var(--fill-color);\n",
              "    }\n",
              "    30% {\n",
              "      border-color: transparent;\n",
              "      border-left-color: var(--fill-color);\n",
              "      border-top-color: var(--fill-color);\n",
              "      border-right-color: var(--fill-color);\n",
              "    }\n",
              "    40% {\n",
              "      border-color: transparent;\n",
              "      border-right-color: var(--fill-color);\n",
              "      border-top-color: var(--fill-color);\n",
              "    }\n",
              "    60% {\n",
              "      border-color: transparent;\n",
              "      border-right-color: var(--fill-color);\n",
              "    }\n",
              "    80% {\n",
              "      border-color: transparent;\n",
              "      border-right-color: var(--fill-color);\n",
              "      border-bottom-color: var(--fill-color);\n",
              "    }\n",
              "    90% {\n",
              "      border-color: transparent;\n",
              "      border-bottom-color: var(--fill-color);\n",
              "    }\n",
              "  }\n",
              "</style>\n",
              "\n",
              "  <script>\n",
              "    async function quickchart(key) {\n",
              "      const quickchartButtonEl =\n",
              "        document.querySelector('#' + key + ' button');\n",
              "      quickchartButtonEl.disabled = true;  // To prevent multiple clicks.\n",
              "      quickchartButtonEl.classList.add('colab-df-spinner');\n",
              "      try {\n",
              "        const charts = await google.colab.kernel.invokeFunction(\n",
              "            'suggestCharts', [key], {});\n",
              "      } catch (error) {\n",
              "        console.error('Error during call to suggestCharts:', error);\n",
              "      }\n",
              "      quickchartButtonEl.classList.remove('colab-df-spinner');\n",
              "      quickchartButtonEl.classList.add('colab-df-quickchart-complete');\n",
              "    }\n",
              "    (() => {\n",
              "      let quickchartButtonEl =\n",
              "        document.querySelector('#df-5532298e-77d7-403d-8c99-282bd818daae button');\n",
              "      quickchartButtonEl.style.display =\n",
              "        google.colab.kernel.accessAllowed ? 'block' : 'none';\n",
              "    })();\n",
              "  </script>\n",
              "</div>\n",
              "    </div>\n",
              "  </div>\n"
            ],
            "application/vnd.google.colaboratory.intrinsic+json": {
              "type": "dataframe",
              "variable_name": "df"
            }
          },
          "metadata": {},
          "execution_count": 8
        }
      ],
      "source": [
        "df = df.drop(df.index[-1])\n",
        "df\n"
      ]
    },
    {
      "cell_type": "code",
      "execution_count": null,
      "metadata": {
        "id": "HtAn8SD2hSCP"
      },
      "outputs": [],
      "source": [
        "df1 = df.copy()"
      ]
    },
    {
      "cell_type": "code",
      "execution_count": null,
      "metadata": {
        "id": "EVHs3kSdi8vX",
        "colab": {
          "base_uri": "https://localhost:8080/"
        },
        "outputId": "e04c536d-55f1-47df-b308-5b134476cf43"
      },
      "outputs": [
        {
          "output_type": "execute_result",
          "data": {
            "text/plain": [
              "Index(['Index_x_x', 'year_code', 'make_code', 'model_code', 'trim_code',\n",
              "       'body_code', 'transmission_code', 'state_code', 'color_code',\n",
              "       'interior_code', 'seller_code', 'condition', 'odometer', 'mmr',\n",
              "       'sellingprice', 'Index_y', 'condition_mms', 'odometer_mms', 'mmr_mms',\n",
              "       'sellingprice_mms', 'Cluster_Label_x', 'Index_x_y', 'Cluster_Label_y'],\n",
              "      dtype='object')"
            ]
          },
          "metadata": {},
          "execution_count": 10
        }
      ],
      "source": [
        "df1.columns"
      ]
    },
    {
      "cell_type": "code",
      "execution_count": null,
      "metadata": {
        "id": "BbgaLDili23k",
        "colab": {
          "base_uri": "https://localhost:8080/"
        },
        "outputId": "866972d3-7ad9-4b8f-caed-bc5a3eef635b"
      },
      "outputs": [
        {
          "output_type": "execute_result",
          "data": {
            "text/plain": [
              "array(['3.0', '2.0', '0.0'], dtype='<U32')"
            ]
          },
          "metadata": {},
          "execution_count": 11
        }
      ],
      "source": [
        "# Subset df1 based on Inputs as {mpg, hp, cyl, vs} & Output as {am}\n",
        "df1_inputs = df1[['year_code', 'make_code', 'model_code', 'trim_code',\n",
        "       'body_code', 'transmission_code', 'state_code', 'color_code',\n",
        "       'interior_code', 'seller_code', 'condition', 'odometer', 'mmr',\n",
        "       'sellingprice', 'condition_mms', 'odometer_mms', 'mmr_mms',\n",
        "       'sellingprice_mms'\n",
        "       ]]; df1_inputs\n",
        "df1_output = df1[['Cluster_Label_x']]; df1_output\n",
        "\n",
        "df1_inputs_names = df1_inputs.columns; df1_inputs_names\n",
        "df1_output_labels = df1_output['Cluster_Label_x'].unique().astype(str); df1_output_labels"
      ]
    },
    {
      "cell_type": "code",
      "execution_count": null,
      "metadata": {
        "id": "_QxVcwY7jVsV"
      },
      "outputs": [],
      "source": [
        "# Initialize StratifiedShuffleSplit with desired test size and random state\n",
        "stratified_split = StratifiedShuffleSplit(n_splits=1, test_size=0.2, random_state=45024)\n",
        "\n",
        "# Perform the stratified split to get training and testing indices\n",
        "for train_index, test_index in stratified_split.split(df1_inputs, df1_output):\n",
        "    df1_inputs_train, df1_inputs_test = df1_inputs.iloc[train_index], df1_inputs.iloc[test_index]\n",
        "    df1_output_train, df1_output_test = df1_output.iloc[train_index], df1_output.iloc[test_index]\n"
      ]
    },
    {
      "cell_type": "code",
      "execution_count": null,
      "metadata": {
        "id": "Pn_GGgnWjWHl",
        "colab": {
          "base_uri": "https://localhost:8080/",
          "height": 75
        },
        "outputId": "78df6a7a-dd92-4927-d3a2-ca5adfd52deb"
      },
      "outputs": [
        {
          "output_type": "execute_result",
          "data": {
            "text/plain": [
              "DecisionTreeClassifier(max_depth=3, random_state=45024)"
            ],
            "text/html": [
              "<style>#sk-container-id-1 {color: black;background-color: white;}#sk-container-id-1 pre{padding: 0;}#sk-container-id-1 div.sk-toggleable {background-color: white;}#sk-container-id-1 label.sk-toggleable__label {cursor: pointer;display: block;width: 100%;margin-bottom: 0;padding: 0.3em;box-sizing: border-box;text-align: center;}#sk-container-id-1 label.sk-toggleable__label-arrow:before {content: \"▸\";float: left;margin-right: 0.25em;color: #696969;}#sk-container-id-1 label.sk-toggleable__label-arrow:hover:before {color: black;}#sk-container-id-1 div.sk-estimator:hover label.sk-toggleable__label-arrow:before {color: black;}#sk-container-id-1 div.sk-toggleable__content {max-height: 0;max-width: 0;overflow: hidden;text-align: left;background-color: #f0f8ff;}#sk-container-id-1 div.sk-toggleable__content pre {margin: 0.2em;color: black;border-radius: 0.25em;background-color: #f0f8ff;}#sk-container-id-1 input.sk-toggleable__control:checked~div.sk-toggleable__content {max-height: 200px;max-width: 100%;overflow: auto;}#sk-container-id-1 input.sk-toggleable__control:checked~label.sk-toggleable__label-arrow:before {content: \"▾\";}#sk-container-id-1 div.sk-estimator input.sk-toggleable__control:checked~label.sk-toggleable__label {background-color: #d4ebff;}#sk-container-id-1 div.sk-label input.sk-toggleable__control:checked~label.sk-toggleable__label {background-color: #d4ebff;}#sk-container-id-1 input.sk-hidden--visually {border: 0;clip: rect(1px 1px 1px 1px);clip: rect(1px, 1px, 1px, 1px);height: 1px;margin: -1px;overflow: hidden;padding: 0;position: absolute;width: 1px;}#sk-container-id-1 div.sk-estimator {font-family: monospace;background-color: #f0f8ff;border: 1px dotted black;border-radius: 0.25em;box-sizing: border-box;margin-bottom: 0.5em;}#sk-container-id-1 div.sk-estimator:hover {background-color: #d4ebff;}#sk-container-id-1 div.sk-parallel-item::after {content: \"\";width: 100%;border-bottom: 1px solid gray;flex-grow: 1;}#sk-container-id-1 div.sk-label:hover label.sk-toggleable__label {background-color: #d4ebff;}#sk-container-id-1 div.sk-serial::before {content: \"\";position: absolute;border-left: 1px solid gray;box-sizing: border-box;top: 0;bottom: 0;left: 50%;z-index: 0;}#sk-container-id-1 div.sk-serial {display: flex;flex-direction: column;align-items: center;background-color: white;padding-right: 0.2em;padding-left: 0.2em;position: relative;}#sk-container-id-1 div.sk-item {position: relative;z-index: 1;}#sk-container-id-1 div.sk-parallel {display: flex;align-items: stretch;justify-content: center;background-color: white;position: relative;}#sk-container-id-1 div.sk-item::before, #sk-container-id-1 div.sk-parallel-item::before {content: \"\";position: absolute;border-left: 1px solid gray;box-sizing: border-box;top: 0;bottom: 0;left: 50%;z-index: -1;}#sk-container-id-1 div.sk-parallel-item {display: flex;flex-direction: column;z-index: 1;position: relative;background-color: white;}#sk-container-id-1 div.sk-parallel-item:first-child::after {align-self: flex-end;width: 50%;}#sk-container-id-1 div.sk-parallel-item:last-child::after {align-self: flex-start;width: 50%;}#sk-container-id-1 div.sk-parallel-item:only-child::after {width: 0;}#sk-container-id-1 div.sk-dashed-wrapped {border: 1px dashed gray;margin: 0 0.4em 0.5em 0.4em;box-sizing: border-box;padding-bottom: 0.4em;background-color: white;}#sk-container-id-1 div.sk-label label {font-family: monospace;font-weight: bold;display: inline-block;line-height: 1.2em;}#sk-container-id-1 div.sk-label-container {text-align: center;}#sk-container-id-1 div.sk-container {/* jupyter's `normalize.less` sets `[hidden] { display: none; }` but bootstrap.min.css set `[hidden] { display: none !important; }` so we also need the `!important` here to be able to override the default hidden behavior on the sphinx rendered scikit-learn.org. See: https://github.com/scikit-learn/scikit-learn/issues/21755 */display: inline-block !important;position: relative;}#sk-container-id-1 div.sk-text-repr-fallback {display: none;}</style><div id=\"sk-container-id-1\" class=\"sk-top-container\"><div class=\"sk-text-repr-fallback\"><pre>DecisionTreeClassifier(max_depth=3, random_state=45024)</pre><b>In a Jupyter environment, please rerun this cell to show the HTML representation or trust the notebook. <br />On GitHub, the HTML representation is unable to render, please try loading this page with nbviewer.org.</b></div><div class=\"sk-container\" hidden><div class=\"sk-item\"><div class=\"sk-estimator sk-toggleable\"><input class=\"sk-toggleable__control sk-hidden--visually\" id=\"sk-estimator-id-1\" type=\"checkbox\" checked><label for=\"sk-estimator-id-1\" class=\"sk-toggleable__label sk-toggleable__label-arrow\">DecisionTreeClassifier</label><div class=\"sk-toggleable__content\"><pre>DecisionTreeClassifier(max_depth=3, random_state=45024)</pre></div></div></div></div></div>"
            ]
          },
          "metadata": {},
          "execution_count": 13
        }
      ],
      "source": [
        "# Decision Tree : Model (Training Subset)\n",
        "dtc = DecisionTreeClassifier(criterion='gini', random_state=45024, max_depth=3) # Other Criteria : Entropy,  Log Loss\n",
        "dtc_model = dtc.fit(df1_inputs_train, df1_output_train); dtc_model"
      ]
    },
    {
      "cell_type": "code",
      "execution_count": null,
      "metadata": {
        "id": "PSpdxhQnj4lW",
        "colab": {
          "base_uri": "https://localhost:8080/"
        },
        "outputId": "79314972-8250-4002-a333-08a5dade3d35"
      },
      "outputs": [
        {
          "output_type": "stream",
          "name": "stdout",
          "text": [
            "|--- interior_code <= 15.50\n",
            "|   |--- make_code <= 51.50\n",
            "|   |   |--- condition <= 30.84\n",
            "|   |   |   |--- class: 3.0\n",
            "|   |   |--- condition >  30.84\n",
            "|   |   |   |--- class: 2.0\n",
            "|   |--- make_code >  51.50\n",
            "|   |   |--- body_code <= 30.50\n",
            "|   |   |   |--- class: 2.0\n",
            "|   |   |--- body_code >  30.50\n",
            "|   |   |   |--- class: 3.0\n",
            "|--- interior_code >  15.50\n",
            "|   |--- condition <= 29.84\n",
            "|   |   |--- model_code <= 774.50\n",
            "|   |   |   |--- class: 3.0\n",
            "|   |   |--- model_code >  774.50\n",
            "|   |   |   |--- class: 3.0\n",
            "|   |--- condition >  29.84\n",
            "|   |   |--- condition_mms <= 0.62\n",
            "|   |   |   |--- class: 3.0\n",
            "|   |   |--- condition_mms >  0.62\n",
            "|   |   |   |--- class: 2.0\n",
            "\n"
          ]
        }
      ],
      "source": [
        "# Decision Tree : Model Rules\n",
        "dtc_model_rules = export_text(dtc_model, feature_names = list(df1_inputs_names)); print(dtc_model_rules)"
      ]
    },
    {
      "cell_type": "code",
      "execution_count": null,
      "metadata": {
        "id": "YzNQuXbnj_ok",
        "colab": {
          "base_uri": "https://localhost:8080/",
          "height": 614
        },
        "outputId": "149b29f4-3ac2-4c61-a3a9-e702d3419283"
      },
      "outputs": [
        {
          "output_type": "execute_result",
          "data": {
            "text/plain": [
              "              feature  importance\n",
              "8       interior_code       0.302\n",
              "14      condition_mms       0.251\n",
              "10          condition       0.216\n",
              "1           make_code       0.213\n",
              "4           body_code       0.012\n",
              "2          model_code       0.006\n",
              "0           year_code       0.000\n",
              "12                mmr       0.000\n",
              "16            mmr_mms       0.000\n",
              "15       odometer_mms       0.000\n",
              "13       sellingprice       0.000\n",
              "9         seller_code       0.000\n",
              "11           odometer       0.000\n",
              "7          color_code       0.000\n",
              "6          state_code       0.000\n",
              "5   transmission_code       0.000\n",
              "3           trim_code       0.000\n",
              "17   sellingprice_mms       0.000"
            ],
            "text/html": [
              "\n",
              "  <div id=\"df-f154b050-aa0c-4702-a9bc-cda56c17af64\" class=\"colab-df-container\">\n",
              "    <div>\n",
              "<style scoped>\n",
              "    .dataframe tbody tr th:only-of-type {\n",
              "        vertical-align: middle;\n",
              "    }\n",
              "\n",
              "    .dataframe tbody tr th {\n",
              "        vertical-align: top;\n",
              "    }\n",
              "\n",
              "    .dataframe thead th {\n",
              "        text-align: right;\n",
              "    }\n",
              "</style>\n",
              "<table border=\"1\" class=\"dataframe\">\n",
              "  <thead>\n",
              "    <tr style=\"text-align: right;\">\n",
              "      <th></th>\n",
              "      <th>feature</th>\n",
              "      <th>importance</th>\n",
              "    </tr>\n",
              "  </thead>\n",
              "  <tbody>\n",
              "    <tr>\n",
              "      <th>8</th>\n",
              "      <td>interior_code</td>\n",
              "      <td>0.302</td>\n",
              "    </tr>\n",
              "    <tr>\n",
              "      <th>14</th>\n",
              "      <td>condition_mms</td>\n",
              "      <td>0.251</td>\n",
              "    </tr>\n",
              "    <tr>\n",
              "      <th>10</th>\n",
              "      <td>condition</td>\n",
              "      <td>0.216</td>\n",
              "    </tr>\n",
              "    <tr>\n",
              "      <th>1</th>\n",
              "      <td>make_code</td>\n",
              "      <td>0.213</td>\n",
              "    </tr>\n",
              "    <tr>\n",
              "      <th>4</th>\n",
              "      <td>body_code</td>\n",
              "      <td>0.012</td>\n",
              "    </tr>\n",
              "    <tr>\n",
              "      <th>2</th>\n",
              "      <td>model_code</td>\n",
              "      <td>0.006</td>\n",
              "    </tr>\n",
              "    <tr>\n",
              "      <th>0</th>\n",
              "      <td>year_code</td>\n",
              "      <td>0.000</td>\n",
              "    </tr>\n",
              "    <tr>\n",
              "      <th>12</th>\n",
              "      <td>mmr</td>\n",
              "      <td>0.000</td>\n",
              "    </tr>\n",
              "    <tr>\n",
              "      <th>16</th>\n",
              "      <td>mmr_mms</td>\n",
              "      <td>0.000</td>\n",
              "    </tr>\n",
              "    <tr>\n",
              "      <th>15</th>\n",
              "      <td>odometer_mms</td>\n",
              "      <td>0.000</td>\n",
              "    </tr>\n",
              "    <tr>\n",
              "      <th>13</th>\n",
              "      <td>sellingprice</td>\n",
              "      <td>0.000</td>\n",
              "    </tr>\n",
              "    <tr>\n",
              "      <th>9</th>\n",
              "      <td>seller_code</td>\n",
              "      <td>0.000</td>\n",
              "    </tr>\n",
              "    <tr>\n",
              "      <th>11</th>\n",
              "      <td>odometer</td>\n",
              "      <td>0.000</td>\n",
              "    </tr>\n",
              "    <tr>\n",
              "      <th>7</th>\n",
              "      <td>color_code</td>\n",
              "      <td>0.000</td>\n",
              "    </tr>\n",
              "    <tr>\n",
              "      <th>6</th>\n",
              "      <td>state_code</td>\n",
              "      <td>0.000</td>\n",
              "    </tr>\n",
              "    <tr>\n",
              "      <th>5</th>\n",
              "      <td>transmission_code</td>\n",
              "      <td>0.000</td>\n",
              "    </tr>\n",
              "    <tr>\n",
              "      <th>3</th>\n",
              "      <td>trim_code</td>\n",
              "      <td>0.000</td>\n",
              "    </tr>\n",
              "    <tr>\n",
              "      <th>17</th>\n",
              "      <td>sellingprice_mms</td>\n",
              "      <td>0.000</td>\n",
              "    </tr>\n",
              "  </tbody>\n",
              "</table>\n",
              "</div>\n",
              "    <div class=\"colab-df-buttons\">\n",
              "\n",
              "  <div class=\"colab-df-container\">\n",
              "    <button class=\"colab-df-convert\" onclick=\"convertToInteractive('df-f154b050-aa0c-4702-a9bc-cda56c17af64')\"\n",
              "            title=\"Convert this dataframe to an interactive table.\"\n",
              "            style=\"display:none;\">\n",
              "\n",
              "  <svg xmlns=\"http://www.w3.org/2000/svg\" height=\"24px\" viewBox=\"0 -960 960 960\">\n",
              "    <path d=\"M120-120v-720h720v720H120Zm60-500h600v-160H180v160Zm220 220h160v-160H400v160Zm0 220h160v-160H400v160ZM180-400h160v-160H180v160Zm440 0h160v-160H620v160ZM180-180h160v-160H180v160Zm440 0h160v-160H620v160Z\"/>\n",
              "  </svg>\n",
              "    </button>\n",
              "\n",
              "  <style>\n",
              "    .colab-df-container {\n",
              "      display:flex;\n",
              "      gap: 12px;\n",
              "    }\n",
              "\n",
              "    .colab-df-convert {\n",
              "      background-color: #E8F0FE;\n",
              "      border: none;\n",
              "      border-radius: 50%;\n",
              "      cursor: pointer;\n",
              "      display: none;\n",
              "      fill: #1967D2;\n",
              "      height: 32px;\n",
              "      padding: 0 0 0 0;\n",
              "      width: 32px;\n",
              "    }\n",
              "\n",
              "    .colab-df-convert:hover {\n",
              "      background-color: #E2EBFA;\n",
              "      box-shadow: 0px 1px 2px rgba(60, 64, 67, 0.3), 0px 1px 3px 1px rgba(60, 64, 67, 0.15);\n",
              "      fill: #174EA6;\n",
              "    }\n",
              "\n",
              "    .colab-df-buttons div {\n",
              "      margin-bottom: 4px;\n",
              "    }\n",
              "\n",
              "    [theme=dark] .colab-df-convert {\n",
              "      background-color: #3B4455;\n",
              "      fill: #D2E3FC;\n",
              "    }\n",
              "\n",
              "    [theme=dark] .colab-df-convert:hover {\n",
              "      background-color: #434B5C;\n",
              "      box-shadow: 0px 1px 3px 1px rgba(0, 0, 0, 0.15);\n",
              "      filter: drop-shadow(0px 1px 2px rgba(0, 0, 0, 0.3));\n",
              "      fill: #FFFFFF;\n",
              "    }\n",
              "  </style>\n",
              "\n",
              "    <script>\n",
              "      const buttonEl =\n",
              "        document.querySelector('#df-f154b050-aa0c-4702-a9bc-cda56c17af64 button.colab-df-convert');\n",
              "      buttonEl.style.display =\n",
              "        google.colab.kernel.accessAllowed ? 'block' : 'none';\n",
              "\n",
              "      async function convertToInteractive(key) {\n",
              "        const element = document.querySelector('#df-f154b050-aa0c-4702-a9bc-cda56c17af64');\n",
              "        const dataTable =\n",
              "          await google.colab.kernel.invokeFunction('convertToInteractive',\n",
              "                                                    [key], {});\n",
              "        if (!dataTable) return;\n",
              "\n",
              "        const docLinkHtml = 'Like what you see? Visit the ' +\n",
              "          '<a target=\"_blank\" href=https://colab.research.google.com/notebooks/data_table.ipynb>data table notebook</a>'\n",
              "          + ' to learn more about interactive tables.';\n",
              "        element.innerHTML = '';\n",
              "        dataTable['output_type'] = 'display_data';\n",
              "        await google.colab.output.renderOutput(dataTable, element);\n",
              "        const docLink = document.createElement('div');\n",
              "        docLink.innerHTML = docLinkHtml;\n",
              "        element.appendChild(docLink);\n",
              "      }\n",
              "    </script>\n",
              "  </div>\n",
              "\n",
              "\n",
              "<div id=\"df-5ba5a0b6-f48d-41e1-bad5-b5abc31dcd67\">\n",
              "  <button class=\"colab-df-quickchart\" onclick=\"quickchart('df-5ba5a0b6-f48d-41e1-bad5-b5abc31dcd67')\"\n",
              "            title=\"Suggest charts\"\n",
              "            style=\"display:none;\">\n",
              "\n",
              "<svg xmlns=\"http://www.w3.org/2000/svg\" height=\"24px\"viewBox=\"0 0 24 24\"\n",
              "     width=\"24px\">\n",
              "    <g>\n",
              "        <path d=\"M19 3H5c-1.1 0-2 .9-2 2v14c0 1.1.9 2 2 2h14c1.1 0 2-.9 2-2V5c0-1.1-.9-2-2-2zM9 17H7v-7h2v7zm4 0h-2V7h2v10zm4 0h-2v-4h2v4z\"/>\n",
              "    </g>\n",
              "</svg>\n",
              "  </button>\n",
              "\n",
              "<style>\n",
              "  .colab-df-quickchart {\n",
              "      --bg-color: #E8F0FE;\n",
              "      --fill-color: #1967D2;\n",
              "      --hover-bg-color: #E2EBFA;\n",
              "      --hover-fill-color: #174EA6;\n",
              "      --disabled-fill-color: #AAA;\n",
              "      --disabled-bg-color: #DDD;\n",
              "  }\n",
              "\n",
              "  [theme=dark] .colab-df-quickchart {\n",
              "      --bg-color: #3B4455;\n",
              "      --fill-color: #D2E3FC;\n",
              "      --hover-bg-color: #434B5C;\n",
              "      --hover-fill-color: #FFFFFF;\n",
              "      --disabled-bg-color: #3B4455;\n",
              "      --disabled-fill-color: #666;\n",
              "  }\n",
              "\n",
              "  .colab-df-quickchart {\n",
              "    background-color: var(--bg-color);\n",
              "    border: none;\n",
              "    border-radius: 50%;\n",
              "    cursor: pointer;\n",
              "    display: none;\n",
              "    fill: var(--fill-color);\n",
              "    height: 32px;\n",
              "    padding: 0;\n",
              "    width: 32px;\n",
              "  }\n",
              "\n",
              "  .colab-df-quickchart:hover {\n",
              "    background-color: var(--hover-bg-color);\n",
              "    box-shadow: 0 1px 2px rgba(60, 64, 67, 0.3), 0 1px 3px 1px rgba(60, 64, 67, 0.15);\n",
              "    fill: var(--button-hover-fill-color);\n",
              "  }\n",
              "\n",
              "  .colab-df-quickchart-complete:disabled,\n",
              "  .colab-df-quickchart-complete:disabled:hover {\n",
              "    background-color: var(--disabled-bg-color);\n",
              "    fill: var(--disabled-fill-color);\n",
              "    box-shadow: none;\n",
              "  }\n",
              "\n",
              "  .colab-df-spinner {\n",
              "    border: 2px solid var(--fill-color);\n",
              "    border-color: transparent;\n",
              "    border-bottom-color: var(--fill-color);\n",
              "    animation:\n",
              "      spin 1s steps(1) infinite;\n",
              "  }\n",
              "\n",
              "  @keyframes spin {\n",
              "    0% {\n",
              "      border-color: transparent;\n",
              "      border-bottom-color: var(--fill-color);\n",
              "      border-left-color: var(--fill-color);\n",
              "    }\n",
              "    20% {\n",
              "      border-color: transparent;\n",
              "      border-left-color: var(--fill-color);\n",
              "      border-top-color: var(--fill-color);\n",
              "    }\n",
              "    30% {\n",
              "      border-color: transparent;\n",
              "      border-left-color: var(--fill-color);\n",
              "      border-top-color: var(--fill-color);\n",
              "      border-right-color: var(--fill-color);\n",
              "    }\n",
              "    40% {\n",
              "      border-color: transparent;\n",
              "      border-right-color: var(--fill-color);\n",
              "      border-top-color: var(--fill-color);\n",
              "    }\n",
              "    60% {\n",
              "      border-color: transparent;\n",
              "      border-right-color: var(--fill-color);\n",
              "    }\n",
              "    80% {\n",
              "      border-color: transparent;\n",
              "      border-right-color: var(--fill-color);\n",
              "      border-bottom-color: var(--fill-color);\n",
              "    }\n",
              "    90% {\n",
              "      border-color: transparent;\n",
              "      border-bottom-color: var(--fill-color);\n",
              "    }\n",
              "  }\n",
              "</style>\n",
              "\n",
              "  <script>\n",
              "    async function quickchart(key) {\n",
              "      const quickchartButtonEl =\n",
              "        document.querySelector('#' + key + ' button');\n",
              "      quickchartButtonEl.disabled = true;  // To prevent multiple clicks.\n",
              "      quickchartButtonEl.classList.add('colab-df-spinner');\n",
              "      try {\n",
              "        const charts = await google.colab.kernel.invokeFunction(\n",
              "            'suggestCharts', [key], {});\n",
              "      } catch (error) {\n",
              "        console.error('Error during call to suggestCharts:', error);\n",
              "      }\n",
              "      quickchartButtonEl.classList.remove('colab-df-spinner');\n",
              "      quickchartButtonEl.classList.add('colab-df-quickchart-complete');\n",
              "    }\n",
              "    (() => {\n",
              "      let quickchartButtonEl =\n",
              "        document.querySelector('#df-5ba5a0b6-f48d-41e1-bad5-b5abc31dcd67 button');\n",
              "      quickchartButtonEl.style.display =\n",
              "        google.colab.kernel.accessAllowed ? 'block' : 'none';\n",
              "    })();\n",
              "  </script>\n",
              "</div>\n",
              "    </div>\n",
              "  </div>\n"
            ],
            "application/vnd.google.colaboratory.intrinsic+json": {
              "type": "dataframe",
              "variable_name": "dtc_imp_features",
              "summary": "{\n  \"name\": \"dtc_imp_features\",\n  \"rows\": 18,\n  \"fields\": [\n    {\n      \"column\": \"feature\",\n      \"properties\": {\n        \"dtype\": \"string\",\n        \"num_unique_values\": 18,\n        \"samples\": [\n          \"interior_code\",\n          \"condition_mms\",\n          \"mmr_mms\"\n        ],\n        \"semantic_type\": \"\",\n        \"description\": \"\"\n      }\n    },\n    {\n      \"column\": \"importance\",\n      \"properties\": {\n        \"dtype\": \"number\",\n        \"std\": 0.10595627412354491,\n        \"min\": 0.0,\n        \"max\": 0.302,\n        \"num_unique_values\": 7,\n        \"samples\": [\n          0.302,\n          0.251,\n          0.006\n        ],\n        \"semantic_type\": \"\",\n        \"description\": \"\"\n      }\n    }\n  ]\n}"
            }
          },
          "metadata": {},
          "execution_count": 15
        }
      ],
      "source": [
        "# Decision Tree : Feature Importance\n",
        "dtc_imp_features = pd.DataFrame({'feature': df1_inputs_names, 'importance': np.round(dtc_model.feature_importances_, 3)})\n",
        "dtc_imp_features.sort_values('importance', ascending=False, inplace=True); dtc_imp_features"
      ]
    },
    {
      "cell_type": "code",
      "execution_count": null,
      "metadata": {
        "id": "wlzPQ6qjqTWL",
        "colab": {
          "base_uri": "https://localhost:8080/"
        },
        "outputId": "5832dc32-7a3e-485b-ddb8-2e7e4fa9f066"
      },
      "outputs": [
        {
          "output_type": "execute_result",
          "data": {
            "text/plain": [
              "array([2., 2., 3., ..., 3., 2., 3.])"
            ]
          },
          "metadata": {},
          "execution_count": 16
        }
      ],
      "source": [
        "# Decision Tree : Model Prediction (Training Subset)\n",
        "dtc_model_predict = dtc_model.predict(df1_inputs_train); dtc_model_predict"
      ]
    },
    {
      "cell_type": "code",
      "execution_count": null,
      "metadata": {
        "id": "fHhYZ0Gctf_h",
        "colab": {
          "base_uri": "https://localhost:8080/"
        },
        "outputId": "c39cc6a4-3b6f-4760-b9d0-a2b0b5dc10db"
      },
      "outputs": [
        {
          "output_type": "execute_result",
          "data": {
            "text/plain": [
              "array([3., 2., 2., ..., 3., 2., 2.])"
            ]
          },
          "metadata": {},
          "execution_count": 17
        }
      ],
      "source": [
        "# Decision Tree : Prediction (Testing Subset)\n",
        "dtc_predict = dtc_model.predict(df1_inputs_test); dtc_predict"
      ]
    },
    {
      "cell_type": "code",
      "execution_count": null,
      "metadata": {
        "id": "0yHmBT9qtiEE",
        "colab": {
          "base_uri": "https://localhost:8080/"
        },
        "outputId": "2806ac73-fa80-48e2-fe37-88af5ee4bccc"
      },
      "outputs": [
        {
          "output_type": "stream",
          "name": "stderr",
          "text": [
            "/usr/local/lib/python3.10/dist-packages/sklearn/metrics/_classification.py:1344: UndefinedMetricWarning: Precision and F-score are ill-defined and being set to 0.0 in labels with no predicted samples. Use `zero_division` parameter to control this behavior.\n",
            "  _warn_prf(average, modifier, msg_start, len(result))\n"
          ]
        },
        {
          "output_type": "stream",
          "name": "stdout",
          "text": [
            "              precision    recall  f1-score   support\n",
            "\n",
            "         0.0       0.00      0.00      0.00     79217\n",
            "         2.0       0.38      0.59      0.46     91164\n",
            "         3.0       0.40      0.52      0.45     88308\n",
            "\n",
            "    accuracy                           0.39    258689\n",
            "   macro avg       0.26      0.37      0.30    258689\n",
            "weighted avg       0.27      0.39      0.32    258689\n",
            "\n"
          ]
        },
        {
          "output_type": "stream",
          "name": "stderr",
          "text": [
            "/usr/local/lib/python3.10/dist-packages/sklearn/metrics/_classification.py:1344: UndefinedMetricWarning: Precision and F-score are ill-defined and being set to 0.0 in labels with no predicted samples. Use `zero_division` parameter to control this behavior.\n",
            "  _warn_prf(average, modifier, msg_start, len(result))\n",
            "/usr/local/lib/python3.10/dist-packages/sklearn/metrics/_classification.py:1344: UndefinedMetricWarning: Precision and F-score are ill-defined and being set to 0.0 in labels with no predicted samples. Use `zero_division` parameter to control this behavior.\n",
            "  _warn_prf(average, modifier, msg_start, len(result))\n"
          ]
        }
      ],
      "source": [
        "# Decision Tree : Model Evaluation (Training Subset)\n",
        "dtc_model_conf_mat = pd.DataFrame(confusion_matrix(df1_output_train, dtc_model_predict)); dtc_model_conf_mat\n",
        "dtc_model_perf = classification_report(df1_output_train, dtc_model_predict); print(dtc_model_perf)"
      ]
    },
    {
      "cell_type": "code",
      "execution_count": null,
      "metadata": {
        "id": "B-w_rCIktkFJ",
        "colab": {
          "base_uri": "https://localhost:8080/"
        },
        "outputId": "d54ef472-2aac-4378-f260-2b2deb67080f"
      },
      "outputs": [
        {
          "output_type": "stream",
          "name": "stdout",
          "text": [
            "              precision    recall  f1-score   support\n",
            "\n",
            "         0.0       0.00      0.00      0.00     19805\n",
            "         2.0       0.38      0.59      0.46     22791\n",
            "         3.0       0.40      0.52      0.45     22077\n",
            "\n",
            "    accuracy                           0.39     64673\n",
            "   macro avg       0.26      0.37      0.30     64673\n",
            "weighted avg       0.27      0.39      0.32     64673\n",
            "\n"
          ]
        },
        {
          "output_type": "stream",
          "name": "stderr",
          "text": [
            "/usr/local/lib/python3.10/dist-packages/sklearn/metrics/_classification.py:1344: UndefinedMetricWarning: Precision and F-score are ill-defined and being set to 0.0 in labels with no predicted samples. Use `zero_division` parameter to control this behavior.\n",
            "  _warn_prf(average, modifier, msg_start, len(result))\n",
            "/usr/local/lib/python3.10/dist-packages/sklearn/metrics/_classification.py:1344: UndefinedMetricWarning: Precision and F-score are ill-defined and being set to 0.0 in labels with no predicted samples. Use `zero_division` parameter to control this behavior.\n",
            "  _warn_prf(average, modifier, msg_start, len(result))\n",
            "/usr/local/lib/python3.10/dist-packages/sklearn/metrics/_classification.py:1344: UndefinedMetricWarning: Precision and F-score are ill-defined and being set to 0.0 in labels with no predicted samples. Use `zero_division` parameter to control this behavior.\n",
            "  _warn_prf(average, modifier, msg_start, len(result))\n"
          ]
        }
      ],
      "source": [
        "# Decision Tree : Prediction Evaluation (Testing Subset)\n",
        "dtc_predict_conf_mat = pd.DataFrame(confusion_matrix(df1_output_test, dtc_predict)); dtc_predict_conf_mat\n",
        "dtc_predict_perf = classification_report(df1_output_test, dtc_predict); print(dtc_predict_perf)"
      ]
    },
    {
      "cell_type": "code",
      "execution_count": null,
      "metadata": {
        "colab": {
          "base_uri": "https://localhost:8080/",
          "height": 807
        },
        "id": "5W3TUeAPtqVa",
        "outputId": "d5773e18-1309-4788-cf68-51358af61652"
      },
      "outputs": [
        {
          "output_type": "display_data",
          "data": {
            "text/plain": [
              "<Figure size 1000x1000 with 1 Axes>"
            ],
            "image/png": "[encoded data removed]"
          },
          "metadata": {}
        }
      ],
      "source": [
        "import matplotlib.pyplot as plt\n",
        "from sklearn.tree import plot_tree\n",
        "\n",
        "# Set a larger figure size for better clarity\n",
        "plt.figure(figsize=(10, 10))\n",
        "\n",
        "# Plot the decision tree\n",
        "train_subset_dtc_plot = plot_tree(dtc_model, feature_names=df1_inputs_names, class_names=df1_output_labels, rounded=True, filled=True, fontsize=20)\n",
        "\n",
        "# Show the plot\n",
        "plt.show()\n"
      ]
    },
    {
      "cell_type": "code",
      "execution_count": null,
      "metadata": {
        "colab": {
          "base_uri": "https://localhost:8080/",
          "height": 472
        },
        "id": "mO7RPzlNtsgk",
        "outputId": "780f4f1a-502a-4bbc-ea81-a14e86672d1b"
      },
      "outputs": [
        {
          "output_type": "display_data",
          "data": {
            "text/plain": [
              "<Figure size 640x480 with 2 Axes>"
            ],
            "image/png": "[encoded data removed]"
          },
          "metadata": {}
        }
      ],
      "source": [
        "# Set up the plot\n",
        "ax = plt.axes()\n",
        "\n",
        "# Plot the confusion matrix with annotations in integer format\n",
        "sns.heatmap(dtc_predict_conf_mat, annot=True, fmt='d', cmap='Paired')\n",
        "\n",
        "# Set labels and title\n",
        "ax.set_xlabel('Predicted Label')\n",
        "ax.set_ylabel('True Label')\n",
        "ax.set_title('Decision Tree : Confusion Matrix')\n",
        "\n",
        "# Show the plot\n",
        "plt.show()\n"
      ]
    },
    {
      "cell_type": "code",
      "execution_count": null,
      "metadata": {
        "colab": {
          "base_uri": "https://localhost:8080/",
          "height": 129
        },
        "id": "NWseDirLt-vz",
        "outputId": "22700be1-7516-4d96-88ad-4ac2d1d79348"
      },
      "outputs": [
        {
          "output_type": "stream",
          "name": "stderr",
          "text": [
            "/usr/local/lib/python3.10/dist-packages/sklearn/neighbors/_classification.py:215: DataConversionWarning: A column-vector y was passed when a 1d array was expected. Please change the shape of y to (n_samples,), for example using ravel().\n",
            "  return self._fit(X, y)\n"
          ]
        },
        {
          "output_type": "execute_result",
          "data": {
            "text/plain": [
              "KNeighborsClassifier()"
            ],
            "text/html": [
              "<style>#sk-container-id-2 {color: black;background-color: white;}#sk-container-id-2 pre{padding: 0;}#sk-container-id-2 div.sk-toggleable {background-color: white;}#sk-container-id-2 label.sk-toggleable__label {cursor: pointer;display: block;width: 100%;margin-bottom: 0;padding: 0.3em;box-sizing: border-box;text-align: center;}#sk-container-id-2 label.sk-toggleable__label-arrow:before {content: \"▸\";float: left;margin-right: 0.25em;color: #696969;}#sk-container-id-2 label.sk-toggleable__label-arrow:hover:before {color: black;}#sk-container-id-2 div.sk-estimator:hover label.sk-toggleable__label-arrow:before {color: black;}#sk-container-id-2 div.sk-toggleable__content {max-height: 0;max-width: 0;overflow: hidden;text-align: left;background-color: #f0f8ff;}#sk-container-id-2 div.sk-toggleable__content pre {margin: 0.2em;color: black;border-radius: 0.25em;background-color: #f0f8ff;}#sk-container-id-2 input.sk-toggleable__control:checked~div.sk-toggleable__content {max-height: 200px;max-width: 100%;overflow: auto;}#sk-container-id-2 input.sk-toggleable__control:checked~label.sk-toggleable__label-arrow:before {content: \"▾\";}#sk-container-id-2 div.sk-estimator input.sk-toggleable__control:checked~label.sk-toggleable__label {background-color: #d4ebff;}#sk-container-id-2 div.sk-label input.sk-toggleable__control:checked~label.sk-toggleable__label {background-color: #d4ebff;}#sk-container-id-2 input.sk-hidden--visually {border: 0;clip: rect(1px 1px 1px 1px);clip: rect(1px, 1px, 1px, 1px);height: 1px;margin: -1px;overflow: hidden;padding: 0;position: absolute;width: 1px;}#sk-container-id-2 div.sk-estimator {font-family: monospace;background-color: #f0f8ff;border: 1px dotted black;border-radius: 0.25em;box-sizing: border-box;margin-bottom: 0.5em;}#sk-container-id-2 div.sk-estimator:hover {background-color: #d4ebff;}#sk-container-id-2 div.sk-parallel-item::after {content: \"\";width: 100%;border-bottom: 1px solid gray;flex-grow: 1;}#sk-container-id-2 div.sk-label:hover label.sk-toggleable__label {background-color: #d4ebff;}#sk-container-id-2 div.sk-serial::before {content: \"\";position: absolute;border-left: 1px solid gray;box-sizing: border-box;top: 0;bottom: 0;left: 50%;z-index: 0;}#sk-container-id-2 div.sk-serial {display: flex;flex-direction: column;align-items: center;background-color: white;padding-right: 0.2em;padding-left: 0.2em;position: relative;}#sk-container-id-2 div.sk-item {position: relative;z-index: 1;}#sk-container-id-2 div.sk-parallel {display: flex;align-items: stretch;justify-content: center;background-color: white;position: relative;}#sk-container-id-2 div.sk-item::before, #sk-container-id-2 div.sk-parallel-item::before {content: \"\";position: absolute;border-left: 1px solid gray;box-sizing: border-box;top: 0;bottom: 0;left: 50%;z-index: -1;}#sk-container-id-2 div.sk-parallel-item {display: flex;flex-direction: column;z-index: 1;position: relative;background-color: white;}#sk-container-id-2 div.sk-parallel-item:first-child::after {align-self: flex-end;width: 50%;}#sk-container-id-2 div.sk-parallel-item:last-child::after {align-self: flex-start;width: 50%;}#sk-container-id-2 div.sk-parallel-item:only-child::after {width: 0;}#sk-container-id-2 div.sk-dashed-wrapped {border: 1px dashed gray;margin: 0 0.4em 0.5em 0.4em;box-sizing: border-box;padding-bottom: 0.4em;background-color: white;}#sk-container-id-2 div.sk-label label {font-family: monospace;font-weight: bold;display: inline-block;line-height: 1.2em;}#sk-container-id-2 div.sk-label-container {text-align: center;}#sk-container-id-2 div.sk-container {/* jupyter's `normalize.less` sets `[hidden] { display: none; }` but bootstrap.min.css set `[hidden] { display: none !important; }` so we also need the `!important` here to be able to override the default hidden behavior on the sphinx rendered scikit-learn.org. See: https://github.com/scikit-learn/scikit-learn/issues/21755 */display: inline-block !important;position: relative;}#sk-container-id-2 div.sk-text-repr-fallback {display: none;}</style><div id=\"sk-container-id-2\" class=\"sk-top-container\"><div class=\"sk-text-repr-fallback\"><pre>KNeighborsClassifier()</pre><b>In a Jupyter environment, please rerun this cell to show the HTML representation or trust the notebook. <br />On GitHub, the HTML representation is unable to render, please try loading this page with nbviewer.org.</b></div><div class=\"sk-container\" hidden><div class=\"sk-item\"><div class=\"sk-estimator sk-toggleable\"><input class=\"sk-toggleable__control sk-hidden--visually\" id=\"sk-estimator-id-2\" type=\"checkbox\" checked><label for=\"sk-estimator-id-2\" class=\"sk-toggleable__label sk-toggleable__label-arrow\">KNeighborsClassifier</label><div class=\"sk-toggleable__content\"><pre>KNeighborsClassifier()</pre></div></div></div></div></div>"
            ]
          },
          "metadata": {},
          "execution_count": 22
        }
      ],
      "source": [
        "# Specify the number of neighbors (k)\n",
        "k = 5\n",
        "\n",
        "# Initialize KNN classifier with k neighbors\n",
        "knn = KNeighborsClassifier(n_neighbors=k)\n",
        "\n",
        "# Fit the KNN model using the training data\n",
        "knn.fit(df1_inputs_train, df1_output_train)"
      ]
    },
    {
      "cell_type": "code",
      "execution_count": null,
      "metadata": {
        "id": "VY60jiSd7-Hx"
      },
      "outputs": [],
      "source": [
        "# Make predictions using the testing data\n",
        "y_pred = knn.predict(df1_inputs_test)"
      ]
    },
    {
      "cell_type": "code",
      "execution_count": null,
      "metadata": {
        "colab": {
          "base_uri": "https://localhost:8080/"
        },
        "id": "Ts5a2iDO8Aif",
        "outputId": "945590b4-6778-47ac-e03c-f4a5db97543e"
      },
      "outputs": [
        {
          "output_type": "stream",
          "name": "stdout",
          "text": [
            "Accuracy: 0.3676650224977966\n",
            "Classification Report:\n",
            "              precision    recall  f1-score   support\n",
            "\n",
            "         0.0       0.34      0.44      0.38     19805\n",
            "         2.0       0.38      0.39      0.38     22791\n",
            "         3.0       0.41      0.28      0.33     22077\n",
            "\n",
            "    accuracy                           0.37     64673\n",
            "   macro avg       0.37      0.37      0.37     64673\n",
            "weighted avg       0.37      0.37      0.36     64673\n",
            "\n",
            "Confusion Matrix:\n",
            "[[8710 7134 3961]\n",
            " [8904 8987 4900]\n",
            " [8188 7808 6081]]\n"
          ]
        }
      ],
      "source": [
        "# Calculate accuracy\n",
        "accuracy = accuracy_score(df1_output_test, y_pred)\n",
        "print(f'Accuracy: {accuracy}')\n",
        "\n",
        "# Generate classification report\n",
        "classification_rep = classification_report(df1_output_test, y_pred)\n",
        "print(f'Classification Report:\\n{classification_rep}')\n",
        "\n",
        "# Generate confusion matrix\n",
        "conf_mat = confusion_matrix(df1_output_test, y_pred)\n",
        "print(f'Confusion Matrix:\\n{conf_mat}')\n"
      ]
    },
    {
      "cell_type": "code",
      "execution_count": null,
      "metadata": {
        "colab": {
          "base_uri": "https://localhost:8080/"
        },
        "id": "Iv50oNG48FHU",
        "outputId": "43d24181-8330-469a-8757-410c3fb00bcc"
      },
      "outputs": [
        {
          "output_type": "stream",
          "name": "stderr",
          "text": [
            "/usr/local/lib/python3.10/dist-packages/sklearn/neighbors/_classification.py:215: DataConversionWarning: A column-vector y was passed when a 1d array was expected. Please change the shape of y to (n_samples,), for example using ravel().\n",
            "  return self._fit(X, y)\n"
          ]
        },
        {
          "output_type": "stream",
          "name": "stdout",
          "text": [
            "Accuracy for k=7: 0.37245836747947364\n"
          ]
        },
        {
          "output_type": "stream",
          "name": "stderr",
          "text": [
            "/usr/local/lib/python3.10/dist-packages/sklearn/neighbors/_classification.py:215: DataConversionWarning: A column-vector y was passed when a 1d array was expected. Please change the shape of y to (n_samples,), for example using ravel().\n",
            "  return self._fit(X, y)\n"
          ]
        },
        {
          "output_type": "stream",
          "name": "stdout",
          "text": [
            "Accuracy for k=9: 0.37194810817497254\n"
          ]
        },
        {
          "output_type": "stream",
          "name": "stderr",
          "text": [
            "/usr/local/lib/python3.10/dist-packages/sklearn/neighbors/_classification.py:215: DataConversionWarning: A column-vector y was passed when a 1d array was expected. Please change the shape of y to (n_samples,), for example using ravel().\n",
            "  return self._fit(X, y)\n"
          ]
        },
        {
          "output_type": "stream",
          "name": "stdout",
          "text": [
            "Accuracy for k=11: 0.37103582638813726\n"
          ]
        },
        {
          "output_type": "stream",
          "name": "stderr",
          "text": [
            "/usr/local/lib/python3.10/dist-packages/sklearn/neighbors/_classification.py:215: DataConversionWarning: A column-vector y was passed when a 1d array was expected. Please change the shape of y to (n_samples,), for example using ravel().\n",
            "  return self._fit(X, y)\n"
          ]
        },
        {
          "output_type": "stream",
          "name": "stdout",
          "text": [
            "Accuracy for k=13: 0.3729995515903082\n"
          ]
        },
        {
          "output_type": "stream",
          "name": "stderr",
          "text": [
            "/usr/local/lib/python3.10/dist-packages/sklearn/neighbors/_classification.py:215: DataConversionWarning: A column-vector y was passed when a 1d array was expected. Please change the shape of y to (n_samples,), for example using ravel().\n",
            "  return self._fit(X, y)\n"
          ]
        },
        {
          "output_type": "stream",
          "name": "stdout",
          "text": [
            "Accuracy for k=15: 0.37060287909946965\n"
          ]
        }
      ],
      "source": [
        "k_values = [7, 9, 11, 13, 15]\n",
        "for k in k_values:\n",
        "    knn = KNeighborsClassifier(n_neighbors=k)\n",
        "    knn.fit(df1_inputs_train, df1_output_train)  # Use your training data here\n",
        "    y_pred = knn.predict(df1_inputs_test)  # Use your testing data here\n",
        "    accuracy = accuracy_score(df1_output_test, y_pred)  # Compare predictions with true labels\n",
        "    print(f'Accuracy for k={k}: {accuracy}')"
      ]
    },
    {
      "cell_type": "code",
      "execution_count": null,
      "metadata": {
        "colab": {
          "base_uri": "https://localhost:8080/",
          "height": 564
        },
        "id": "V9Fm53hm8HcJ",
        "outputId": "d26187e2-5cf8-4dc4-c0d2-71d4dbcff8c0"
      },
      "outputs": [
        {
          "output_type": "display_data",
          "data": {
            "text/plain": [
              "<Figure size 800x600 with 1 Axes>"
            ],
            "image/png": "[encoded data removed]"
          },
          "metadata": {}
        }
      ],
      "source": [
        "# Plot confusion matrix\n",
        "def plot_confusion_matrix(y_true, y_pred):\n",
        "    cm = confusion_matrix(y_true, y_pred)\n",
        "    plt.figure(figsize=(8, 6))\n",
        "    sns.heatmap(cm, annot=True, fmt='d', cmap='Blues', cbar=False)\n",
        "    plt.title('Confusion Matrix')\n",
        "    plt.xlabel('Predicted Labels')\n",
        "    plt.ylabel('True Labels')\n",
        "    plt.show()\n",
        "\n",
        "# Assuming df1_output_test and y_pred are the true and predicted labels, respectively\n",
        "plot_confusion_matrix(df1_output_test, y_pred)"
      ]
    },
    {
      "cell_type": "code",
      "execution_count": null,
      "metadata": {
        "id": "gvJ7_tMa8LrQ"
      },
      "outputs": [],
      "source": [
        "# Initialize StratifiedShuffleSplit with desired test size and random state\n",
        "#stratified_split = StratifiedShuffleSplit(n_splits=1, test_size=0.2, random_state=45024)\n",
        "\n",
        "# Perform the stratified split to get training and testing indices\n",
        "#for train_index, test_index in stratified_split.split(df1_inputs, df1_output):\n",
        "#    df1_inputs_train, df1_inputs_test = df1_inputs.iloc[train_index], df1_inputs.iloc[test_index]\n",
        "#    df1_output_train, df1_output_test = df1_output.iloc[train_index], df1_output.iloc[test_index]"
      ]
    },
    {
      "cell_type": "code",
      "execution_count": null,
      "metadata": {
        "colab": {
          "base_uri": "https://localhost:8080/",
          "height": 109
        },
        "id": "LRKgjNm18NlI",
        "outputId": "f2784ade-cecc-4dbc-f993-35443f446dc9"
      },
      "outputs": [
        {
          "output_type": "stream",
          "name": "stderr",
          "text": [
            "/usr/local/lib/python3.10/dist-packages/sklearn/svm/_base.py:1244: ConvergenceWarning: Liblinear failed to converge, increase the number of iterations.\n",
            "  warnings.warn(\n"
          ]
        },
        {
          "output_type": "execute_result",
          "data": {
            "text/plain": [
              "LinearSVC(random_state=45024)"
            ],
            "text/html": [
              "<style>#sk-container-id-3 {color: black;background-color: white;}#sk-container-id-3 pre{padding: 0;}#sk-container-id-3 div.sk-toggleable {background-color: white;}#sk-container-id-3 label.sk-toggleable__label {cursor: pointer;display: block;width: 100%;margin-bottom: 0;padding: 0.3em;box-sizing: border-box;text-align: center;}#sk-container-id-3 label.sk-toggleable__label-arrow:before {content: \"▸\";float: left;margin-right: 0.25em;color: #696969;}#sk-container-id-3 label.sk-toggleable__label-arrow:hover:before {color: black;}#sk-container-id-3 div.sk-estimator:hover label.sk-toggleable__label-arrow:before {color: black;}#sk-container-id-3 div.sk-toggleable__content {max-height: 0;max-width: 0;overflow: hidden;text-align: left;background-color: #f0f8ff;}#sk-container-id-3 div.sk-toggleable__content pre {margin: 0.2em;color: black;border-radius: 0.25em;background-color: #f0f8ff;}#sk-container-id-3 input.sk-toggleable__control:checked~div.sk-toggleable__content {max-height: 200px;max-width: 100%;overflow: auto;}#sk-container-id-3 input.sk-toggleable__control:checked~label.sk-toggleable__label-arrow:before {content: \"▾\";}#sk-container-id-3 div.sk-estimator input.sk-toggleable__control:checked~label.sk-toggleable__label {background-color: #d4ebff;}#sk-container-id-3 div.sk-label input.sk-toggleable__control:checked~label.sk-toggleable__label {background-color: #d4ebff;}#sk-container-id-3 input.sk-hidden--visually {border: 0;clip: rect(1px 1px 1px 1px);clip: rect(1px, 1px, 1px, 1px);height: 1px;margin: -1px;overflow: hidden;padding: 0;position: absolute;width: 1px;}#sk-container-id-3 div.sk-estimator {font-family: monospace;background-color: #f0f8ff;border: 1px dotted black;border-radius: 0.25em;box-sizing: border-box;margin-bottom: 0.5em;}#sk-container-id-3 div.sk-estimator:hover {background-color: #d4ebff;}#sk-container-id-3 div.sk-parallel-item::after {content: \"\";width: 100%;border-bottom: 1px solid gray;flex-grow: 1;}#sk-container-id-3 div.sk-label:hover label.sk-toggleable__label {background-color: #d4ebff;}#sk-container-id-3 div.sk-serial::before {content: \"\";position: absolute;border-left: 1px solid gray;box-sizing: border-box;top: 0;bottom: 0;left: 50%;z-index: 0;}#sk-container-id-3 div.sk-serial {display: flex;flex-direction: column;align-items: center;background-color: white;padding-right: 0.2em;padding-left: 0.2em;position: relative;}#sk-container-id-3 div.sk-item {position: relative;z-index: 1;}#sk-container-id-3 div.sk-parallel {display: flex;align-items: stretch;justify-content: center;background-color: white;position: relative;}#sk-container-id-3 div.sk-item::before, #sk-container-id-3 div.sk-parallel-item::before {content: \"\";position: absolute;border-left: 1px solid gray;box-sizing: border-box;top: 0;bottom: 0;left: 50%;z-index: -1;}#sk-container-id-3 div.sk-parallel-item {display: flex;flex-direction: column;z-index: 1;position: relative;background-color: white;}#sk-container-id-3 div.sk-parallel-item:first-child::after {align-self: flex-end;width: 50%;}#sk-container-id-3 div.sk-parallel-item:last-child::after {align-self: flex-start;width: 50%;}#sk-container-id-3 div.sk-parallel-item:only-child::after {width: 0;}#sk-container-id-3 div.sk-dashed-wrapped {border: 1px dashed gray;margin: 0 0.4em 0.5em 0.4em;box-sizing: border-box;padding-bottom: 0.4em;background-color: white;}#sk-container-id-3 div.sk-label label {font-family: monospace;font-weight: bold;display: inline-block;line-height: 1.2em;}#sk-container-id-3 div.sk-label-container {text-align: center;}#sk-container-id-3 div.sk-container {/* jupyter's `normalize.less` sets `[hidden] { display: none; }` but bootstrap.min.css set `[hidden] { display: none !important; }` so we also need the `!important` here to be able to override the default hidden behavior on the sphinx rendered scikit-learn.org. See: https://github.com/scikit-learn/scikit-learn/issues/21755 */display: inline-block !important;position: relative;}#sk-container-id-3 div.sk-text-repr-fallback {display: none;}</style><div id=\"sk-container-id-3\" class=\"sk-top-container\"><div class=\"sk-text-repr-fallback\"><pre>LinearSVC(random_state=45024)</pre><b>In a Jupyter environment, please rerun this cell to show the HTML representation or trust the notebook. <br />On GitHub, the HTML representation is unable to render, please try loading this page with nbviewer.org.</b></div><div class=\"sk-container\" hidden><div class=\"sk-item\"><div class=\"sk-estimator sk-toggleable\"><input class=\"sk-toggleable__control sk-hidden--visually\" id=\"sk-estimator-id-3\" type=\"checkbox\" checked><label for=\"sk-estimator-id-3\" class=\"sk-toggleable__label sk-toggleable__label-arrow\">LinearSVC</label><div class=\"sk-toggleable__content\"><pre>LinearSVC(random_state=45024)</pre></div></div></div></div></div>"
            ]
          },
          "metadata": {},
          "execution_count": 28
        }
      ],
      "source": [
        "# Ensure the shape of the target variable is correct\n",
        "df1_output_train = column_or_1d(df1_output_train)\n",
        "\n",
        "# Initialize LinearSVC classifier\n",
        "classifier = LinearSVC(random_state=45024)\n",
        "\n",
        "# Fit the classifier to the scaled training data\n",
        "classifier.fit(df1_inputs_train, df1_output_train)"
      ]
    },
    {
      "cell_type": "code",
      "execution_count": null,
      "metadata": {
        "id": "kfPw81Fc8QAd"
      },
      "outputs": [],
      "source": [
        "y_pred = classifier.predict(df1_inputs_test)"
      ]
    },
    {
      "cell_type": "code",
      "execution_count": null,
      "metadata": {
        "colab": {
          "base_uri": "https://localhost:8080/"
        },
        "id": "9wOPH1OP8Sni",
        "outputId": "0763537c-b1e0-441f-b87e-4ee65a43d0dd"
      },
      "outputs": [
        {
          "output_type": "stream",
          "name": "stdout",
          "text": [
            "Accuracy: 0.35875867827377733\n",
            "Classification Report:\n",
            "              precision    recall  f1-score   support\n",
            "\n",
            "         0.0       0.26      0.01      0.01     19805\n",
            "         2.0       0.35      0.97      0.52     22791\n",
            "         3.0       0.52      0.04      0.08     22077\n",
            "\n",
            "    accuracy                           0.36     64673\n",
            "   macro avg       0.38      0.34      0.20     64673\n",
            "weighted avg       0.38      0.36      0.21     64673\n",
            "\n"
          ]
        }
      ],
      "source": [
        "from sklearn.metrics import accuracy_score, precision_recall_fscore_support\n",
        "from sklearn.svm import SVC  # You can replace SVC with your chosen classifier\n",
        "\n",
        "# Calculate accuracy\n",
        "accuracy = accuracy_score(df1_output_test, y_pred)\n",
        "print(f'Accuracy: {accuracy}')\n",
        "\n",
        "from sklearn.metrics import classification_report\n",
        "\n",
        "# Generate classification report\n",
        "classification_rep = classification_report(df1_output_test, y_pred)\n",
        "print(f'Classification Report:\\n{classification_rep}')\n"
      ]
    },
    {
      "cell_type": "markdown",
      "metadata": {
        "id": "3Sv1jVEyIkqF"
      },
      "source": [
        "Logistic Regression"
      ]
    },
    {
      "cell_type": "code",
      "execution_count": null,
      "metadata": {
        "colab": {
          "base_uri": "https://localhost:8080/",
          "height": 75
        },
        "id": "DSb5c9QrHH5W",
        "outputId": "1eb1dca5-94ff-4d25-9aac-f87dd5106be3"
      },
      "outputs": [
        {
          "output_type": "execute_result",
          "data": {
            "text/plain": [
              "LogisticRegression(random_state=45024, solver='liblinear')"
            ],
            "text/html": [
              "<style>#sk-container-id-4 {color: black;background-color: white;}#sk-container-id-4 pre{padding: 0;}#sk-container-id-4 div.sk-toggleable {background-color: white;}#sk-container-id-4 label.sk-toggleable__label {cursor: pointer;display: block;width: 100%;margin-bottom: 0;padding: 0.3em;box-sizing: border-box;text-align: center;}#sk-container-id-4 label.sk-toggleable__label-arrow:before {content: \"▸\";float: left;margin-right: 0.25em;color: #696969;}#sk-container-id-4 label.sk-toggleable__label-arrow:hover:before {color: black;}#sk-container-id-4 div.sk-estimator:hover label.sk-toggleable__label-arrow:before {color: black;}#sk-container-id-4 div.sk-toggleable__content {max-height: 0;max-width: 0;overflow: hidden;text-align: left;background-color: #f0f8ff;}#sk-container-id-4 div.sk-toggleable__content pre {margin: 0.2em;color: black;border-radius: 0.25em;background-color: #f0f8ff;}#sk-container-id-4 input.sk-toggleable__control:checked~div.sk-toggleable__content {max-height: 200px;max-width: 100%;overflow: auto;}#sk-container-id-4 input.sk-toggleable__control:checked~label.sk-toggleable__label-arrow:before {content: \"▾\";}#sk-container-id-4 div.sk-estimator input.sk-toggleable__control:checked~label.sk-toggleable__label {background-color: #d4ebff;}#sk-container-id-4 div.sk-label input.sk-toggleable__control:checked~label.sk-toggleable__label {background-color: #d4ebff;}#sk-container-id-4 input.sk-hidden--visually {border: 0;clip: rect(1px 1px 1px 1px);clip: rect(1px, 1px, 1px, 1px);height: 1px;margin: -1px;overflow: hidden;padding: 0;position: absolute;width: 1px;}#sk-container-id-4 div.sk-estimator {font-family: monospace;background-color: #f0f8ff;border: 1px dotted black;border-radius: 0.25em;box-sizing: border-box;margin-bottom: 0.5em;}#sk-container-id-4 div.sk-estimator:hover {background-color: #d4ebff;}#sk-container-id-4 div.sk-parallel-item::after {content: \"\";width: 100%;border-bottom: 1px solid gray;flex-grow: 1;}#sk-container-id-4 div.sk-label:hover label.sk-toggleable__label {background-color: #d4ebff;}#sk-container-id-4 div.sk-serial::before {content: \"\";position: absolute;border-left: 1px solid gray;box-sizing: border-box;top: 0;bottom: 0;left: 50%;z-index: 0;}#sk-container-id-4 div.sk-serial {display: flex;flex-direction: column;align-items: center;background-color: white;padding-right: 0.2em;padding-left: 0.2em;position: relative;}#sk-container-id-4 div.sk-item {position: relative;z-index: 1;}#sk-container-id-4 div.sk-parallel {display: flex;align-items: stretch;justify-content: center;background-color: white;position: relative;}#sk-container-id-4 div.sk-item::before, #sk-container-id-4 div.sk-parallel-item::before {content: \"\";position: absolute;border-left: 1px solid gray;box-sizing: border-box;top: 0;bottom: 0;left: 50%;z-index: -1;}#sk-container-id-4 div.sk-parallel-item {display: flex;flex-direction: column;z-index: 1;position: relative;background-color: white;}#sk-container-id-4 div.sk-parallel-item:first-child::after {align-self: flex-end;width: 50%;}#sk-container-id-4 div.sk-parallel-item:last-child::after {align-self: flex-start;width: 50%;}#sk-container-id-4 div.sk-parallel-item:only-child::after {width: 0;}#sk-container-id-4 div.sk-dashed-wrapped {border: 1px dashed gray;margin: 0 0.4em 0.5em 0.4em;box-sizing: border-box;padding-bottom: 0.4em;background-color: white;}#sk-container-id-4 div.sk-label label {font-family: monospace;font-weight: bold;display: inline-block;line-height: 1.2em;}#sk-container-id-4 div.sk-label-container {text-align: center;}#sk-container-id-4 div.sk-container {/* jupyter's `normalize.less` sets `[hidden] { display: none; }` but bootstrap.min.css set `[hidden] { display: none !important; }` so we also need the `!important` here to be able to override the default hidden behavior on the sphinx rendered scikit-learn.org. See: https://github.com/scikit-learn/scikit-learn/issues/21755 */display: inline-block !important;position: relative;}#sk-container-id-4 div.sk-text-repr-fallback {display: none;}</style><div id=\"sk-container-id-4\" class=\"sk-top-container\"><div class=\"sk-text-repr-fallback\"><pre>LogisticRegression(random_state=45024, solver=&#x27;liblinear&#x27;)</pre><b>In a Jupyter environment, please rerun this cell to show the HTML representation or trust the notebook. <br />On GitHub, the HTML representation is unable to render, please try loading this page with nbviewer.org.</b></div><div class=\"sk-container\" hidden><div class=\"sk-item\"><div class=\"sk-estimator sk-toggleable\"><input class=\"sk-toggleable__control sk-hidden--visually\" id=\"sk-estimator-id-4\" type=\"checkbox\" checked><label for=\"sk-estimator-id-4\" class=\"sk-toggleable__label sk-toggleable__label-arrow\">LogisticRegression</label><div class=\"sk-toggleable__content\"><pre>LogisticRegression(random_state=45024, solver=&#x27;liblinear&#x27;)</pre></div></div></div></div></div>"
            ]
          },
          "metadata": {},
          "execution_count": 31
        }
      ],
      "source": [
        "# Create and fit a Logistic Regression model\n",
        "logreg = LogisticRegression(random_state=45024, solver='liblinear')\n",
        "logreg.fit(df1_inputs_train, df1_output_train)"
      ]
    },
    {
      "cell_type": "code",
      "execution_count": null,
      "metadata": {
        "colab": {
          "base_uri": "https://localhost:8080/"
        },
        "id": "1hPzok4nIwlk",
        "outputId": "054a5373-e04d-44c7-baed-0151838243d8"
      },
      "outputs": [
        {
          "output_type": "stream",
          "name": "stdout",
          "text": [
            "Accuracy: 0.38165849736366025\n",
            "Classification Report:\n",
            "              precision    recall  f1-score   support\n",
            "\n",
            "         0.0       0.35      0.05      0.09     19805\n",
            "         2.0       0.37      0.62      0.47     22791\n",
            "         3.0       0.40      0.44      0.42     22077\n",
            "\n",
            "    accuracy                           0.38     64673\n",
            "   macro avg       0.37      0.37      0.32     64673\n",
            "weighted avg       0.37      0.38      0.33     64673\n",
            "\n",
            "Confusion Matrix:\n",
            "[[  994 11945  6866]\n",
            " [  951 14019  7821]\n",
            " [  886 11521  9670]]\n"
          ]
        }
      ],
      "source": [
        "# Make predictions using the trained model\n",
        "y_pred = logreg.predict(df1_inputs_test)\n",
        "\n",
        "# Calculate accuracy\n",
        "accuracy = accuracy_score(df1_output_test, y_pred)\n",
        "print(f'Accuracy: {accuracy}')\n",
        "\n",
        "# Generate classification report\n",
        "classification_rep = classification_report(df1_output_test, y_pred)\n",
        "print(f'Classification Report:\\n{classification_rep}')\n",
        "\n",
        "# Generate confusion matrix\n",
        "conf_mat = confusion_matrix(df1_output_test, y_pred)\n",
        "print(f'Confusion Matrix:\\n{conf_mat}')"
      ]
    }
  ],
  "metadata": {
    "colab": {
      "provenance": [],
      "include_colab_link": true
    },
    "kernelspec": {
      "display_name": "Python 3",
      "name": "python3"
    },
    "language_info": {
      "name": "python"
    }
  },
  "nbformat": 4,
  "nbformat_minor": 0
}